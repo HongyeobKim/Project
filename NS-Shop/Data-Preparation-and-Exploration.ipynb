{
 "metadata": {
  "language_info": {
   "codemirror_mode": {
    "name": "ipython",
    "version": 3
   },
   "file_extension": ".py",
   "mimetype": "text/x-python",
   "name": "python",
   "nbconvert_exporter": "python",
   "pygments_lexer": "ipython3",
   "version": "3.8.3-final"
  },
  "orig_nbformat": 2,
  "kernelspec": {
   "name": "python3",
   "display_name": "Python 3"
  }
 },
 "nbformat": 4,
 "nbformat_minor": 2,
 "cells": [
  {
   "cell_type": "markdown",
   "metadata": {},
   "source": [
    "# Data Preparation and Exploration"
   ]
  },
  {
   "cell_type": "markdown",
   "metadata": {},
   "source": [
    "## Introduction"
   ]
  },
  {
   "cell_type": "markdown",
   "metadata": {},
   "source": [
    "이 노트북은 NS 홈쇼핑 대회의 데이터에 대한 의미있는 인사이트를 얻는 것에 목적을 둔다."
   ]
  },
  {
   "cell_type": "markdown",
   "metadata": {},
   "source": [
    "## Loading packages"
   ]
  },
  {
   "cell_type": "code",
   "execution_count": 1,
   "metadata": {},
   "outputs": [],
   "source": [
    "import pandas as pd\n",
    "import numpy as np\n",
    "import matplotlib.pyplot as plt\n",
    "import seaborn as sns\n",
    "\n",
    "%matplotlib inline"
   ]
  },
  {
   "cell_type": "markdown",
   "metadata": {},
   "source": [
    "## Loading data"
   ]
  },
  {
   "cell_type": "code",
   "execution_count": 2,
   "metadata": {},
   "outputs": [],
   "source": [
    "sales_result_ds = pd.read_excel('./data/sales_result.xlsx')\n",
    "rating_ds = pd.read_excel('./data/rating.xlsx')"
   ]
  },
  {
   "cell_type": "code",
   "execution_count": 3,
   "metadata": {},
   "outputs": [],
   "source": [
    "# sales_result_ds column 수정\n",
    "header = sales_result_ds.iloc[0]\n",
    "sales_result_ds = sales_result_ds[1:] \n",
    "sales_result_ds.rename(columns = header, inplace=True)\n",
    "\n",
    "# rating_ds column 수정\n",
    "header = rating_ds.iloc[0]\n",
    "rating_ds = rating_ds[1:] \n",
    "rating_ds.rename(columns = header, inplace=True)"
   ]
  },
  {
   "cell_type": "markdown",
   "metadata": {},
   "source": [
    "## Data at first sight"
   ]
  },
  {
   "cell_type": "code",
   "execution_count": 4,
   "metadata": {},
   "outputs": [
    {
     "output_type": "execute_result",
     "data": {
      "text/plain": "                  방송일시 노출(분)    마더코드    상품코드            상품명 상품군   판매단가  \\\n1  2019-01-01 06:00:00    20  100346  201072  테이트 남성 셀린니트3종  의류  39900   \n2  2019-01-01 06:00:00   NaN  100346  201079  테이트 여성 셀린니트3종  의류  39900   \n3  2019-01-01 06:20:00    20  100346  201072  테이트 남성 셀린니트3종  의류  39900   \n4  2019-01-01 06:20:00   NaN  100346  201079  테이트 여성 셀린니트3종  의류  39900   \n5  2019-01-01 06:40:00    20  100346  201072  테이트 남성 셀린니트3종  의류  39900   \n\n       취급액  \n1  2099000  \n2  4371000  \n3  3262000  \n4  6955000  \n5  6672000  ",
      "text/html": "<div>\n<style scoped>\n    .dataframe tbody tr th:only-of-type {\n        vertical-align: middle;\n    }\n\n    .dataframe tbody tr th {\n        vertical-align: top;\n    }\n\n    .dataframe thead th {\n        text-align: right;\n    }\n</style>\n<table border=\"1\" class=\"dataframe\">\n  <thead>\n    <tr style=\"text-align: right;\">\n      <th></th>\n      <th>방송일시</th>\n      <th>노출(분)</th>\n      <th>마더코드</th>\n      <th>상품코드</th>\n      <th>상품명</th>\n      <th>상품군</th>\n      <th>판매단가</th>\n      <th>취급액</th>\n    </tr>\n  </thead>\n  <tbody>\n    <tr>\n      <th>1</th>\n      <td>2019-01-01 06:00:00</td>\n      <td>20</td>\n      <td>100346</td>\n      <td>201072</td>\n      <td>테이트 남성 셀린니트3종</td>\n      <td>의류</td>\n      <td>39900</td>\n      <td>2099000</td>\n    </tr>\n    <tr>\n      <th>2</th>\n      <td>2019-01-01 06:00:00</td>\n      <td>NaN</td>\n      <td>100346</td>\n      <td>201079</td>\n      <td>테이트 여성 셀린니트3종</td>\n      <td>의류</td>\n      <td>39900</td>\n      <td>4371000</td>\n    </tr>\n    <tr>\n      <th>3</th>\n      <td>2019-01-01 06:20:00</td>\n      <td>20</td>\n      <td>100346</td>\n      <td>201072</td>\n      <td>테이트 남성 셀린니트3종</td>\n      <td>의류</td>\n      <td>39900</td>\n      <td>3262000</td>\n    </tr>\n    <tr>\n      <th>4</th>\n      <td>2019-01-01 06:20:00</td>\n      <td>NaN</td>\n      <td>100346</td>\n      <td>201079</td>\n      <td>테이트 여성 셀린니트3종</td>\n      <td>의류</td>\n      <td>39900</td>\n      <td>6955000</td>\n    </tr>\n    <tr>\n      <th>5</th>\n      <td>2019-01-01 06:40:00</td>\n      <td>20</td>\n      <td>100346</td>\n      <td>201072</td>\n      <td>테이트 남성 셀린니트3종</td>\n      <td>의류</td>\n      <td>39900</td>\n      <td>6672000</td>\n    </tr>\n  </tbody>\n</table>\n</div>"
     },
     "metadata": {},
     "execution_count": 4
    }
   ],
   "source": [
    "sales_result_ds.head()"
   ]
  },
  {
   "cell_type": "code",
   "execution_count": 5,
   "metadata": {},
   "outputs": [
    {
     "output_type": "execute_result",
     "data": {
      "text/plain": "     시간대 2019-01-01 2019-01-02 2019-01-03 2019-01-04 2019-01-05 2019-01-06  \\\n1  02:00          0          0          0          0          0          0   \n2  02:01          0          0          0          0          0          0   \n3  02:02          0          0          0          0          0          0   \n4  02:03          0          0      0.014          0          0          0   \n5  02:04          0          0          0          0          0          0   \n\n  2019-01-07 2019-01-08 2019-01-09  ... 2019-12-23 2019-12-24 2019-12-25  \\\n1          0          0          0  ...          0          0          0   \n2          0          0          0  ...          0          0          0   \n3          0          0          0  ...          0          0          0   \n4          0          0          0  ...          0          0      0.017   \n5          0          0          0  ...          0          0      0.017   \n\n  2019-12-26 2019-12-27 2019-12-28 2019-12-29 2019-12-30 2019-12-31  \\\n1          0          0          0          0          0          0   \n2          0          0          0          0          0      0.012   \n3          0          0          0          0          0          0   \n4          0          0          0          0          0          0   \n5          0          0          0          0          0          0   \n\n  2019-01-01 to 2019-12-31  \n1                    0.003  \n2                    0.003  \n3                    0.004  \n4                    0.004  \n5                    0.004  \n\n[5 rows x 367 columns]",
      "text/html": "<div>\n<style scoped>\n    .dataframe tbody tr th:only-of-type {\n        vertical-align: middle;\n    }\n\n    .dataframe tbody tr th {\n        vertical-align: top;\n    }\n\n    .dataframe thead th {\n        text-align: right;\n    }\n</style>\n<table border=\"1\" class=\"dataframe\">\n  <thead>\n    <tr style=\"text-align: right;\">\n      <th></th>\n      <th>시간대</th>\n      <th>2019-01-01</th>\n      <th>2019-01-02</th>\n      <th>2019-01-03</th>\n      <th>2019-01-04</th>\n      <th>2019-01-05</th>\n      <th>2019-01-06</th>\n      <th>2019-01-07</th>\n      <th>2019-01-08</th>\n      <th>2019-01-09</th>\n      <th>...</th>\n      <th>2019-12-23</th>\n      <th>2019-12-24</th>\n      <th>2019-12-25</th>\n      <th>2019-12-26</th>\n      <th>2019-12-27</th>\n      <th>2019-12-28</th>\n      <th>2019-12-29</th>\n      <th>2019-12-30</th>\n      <th>2019-12-31</th>\n      <th>2019-01-01 to 2019-12-31</th>\n    </tr>\n  </thead>\n  <tbody>\n    <tr>\n      <th>1</th>\n      <td>02:00</td>\n      <td>0</td>\n      <td>0</td>\n      <td>0</td>\n      <td>0</td>\n      <td>0</td>\n      <td>0</td>\n      <td>0</td>\n      <td>0</td>\n      <td>0</td>\n      <td>...</td>\n      <td>0</td>\n      <td>0</td>\n      <td>0</td>\n      <td>0</td>\n      <td>0</td>\n      <td>0</td>\n      <td>0</td>\n      <td>0</td>\n      <td>0</td>\n      <td>0.003</td>\n    </tr>\n    <tr>\n      <th>2</th>\n      <td>02:01</td>\n      <td>0</td>\n      <td>0</td>\n      <td>0</td>\n      <td>0</td>\n      <td>0</td>\n      <td>0</td>\n      <td>0</td>\n      <td>0</td>\n      <td>0</td>\n      <td>...</td>\n      <td>0</td>\n      <td>0</td>\n      <td>0</td>\n      <td>0</td>\n      <td>0</td>\n      <td>0</td>\n      <td>0</td>\n      <td>0</td>\n      <td>0.012</td>\n      <td>0.003</td>\n    </tr>\n    <tr>\n      <th>3</th>\n      <td>02:02</td>\n      <td>0</td>\n      <td>0</td>\n      <td>0</td>\n      <td>0</td>\n      <td>0</td>\n      <td>0</td>\n      <td>0</td>\n      <td>0</td>\n      <td>0</td>\n      <td>...</td>\n      <td>0</td>\n      <td>0</td>\n      <td>0</td>\n      <td>0</td>\n      <td>0</td>\n      <td>0</td>\n      <td>0</td>\n      <td>0</td>\n      <td>0</td>\n      <td>0.004</td>\n    </tr>\n    <tr>\n      <th>4</th>\n      <td>02:03</td>\n      <td>0</td>\n      <td>0</td>\n      <td>0.014</td>\n      <td>0</td>\n      <td>0</td>\n      <td>0</td>\n      <td>0</td>\n      <td>0</td>\n      <td>0</td>\n      <td>...</td>\n      <td>0</td>\n      <td>0</td>\n      <td>0.017</td>\n      <td>0</td>\n      <td>0</td>\n      <td>0</td>\n      <td>0</td>\n      <td>0</td>\n      <td>0</td>\n      <td>0.004</td>\n    </tr>\n    <tr>\n      <th>5</th>\n      <td>02:04</td>\n      <td>0</td>\n      <td>0</td>\n      <td>0</td>\n      <td>0</td>\n      <td>0</td>\n      <td>0</td>\n      <td>0</td>\n      <td>0</td>\n      <td>0</td>\n      <td>...</td>\n      <td>0</td>\n      <td>0</td>\n      <td>0.017</td>\n      <td>0</td>\n      <td>0</td>\n      <td>0</td>\n      <td>0</td>\n      <td>0</td>\n      <td>0</td>\n      <td>0.004</td>\n    </tr>\n  </tbody>\n</table>\n<p>5 rows × 367 columns</p>\n</div>"
     },
     "metadata": {},
     "execution_count": 5
    }
   ],
   "source": [
    "rating_ds.head()"
   ]
  },
  {
   "cell_type": "code",
   "execution_count": 6,
   "metadata": {},
   "outputs": [
    {
     "output_type": "execute_result",
     "data": {
      "text/plain": "(38309, 8)"
     },
     "metadata": {},
     "execution_count": 6
    }
   ],
   "source": [
    "sales_result_ds.shape"
   ]
  },
  {
   "cell_type": "code",
   "execution_count": 7,
   "metadata": {},
   "outputs": [
    {
     "output_type": "execute_result",
     "data": {
      "text/plain": "(1441, 367)"
     },
     "metadata": {},
     "execution_count": 7
    }
   ],
   "source": [
    "rating_ds.shape"
   ]
  },
  {
   "cell_type": "markdown",
   "metadata": {},
   "source": [
    "### Simple stats of the Dataset"
   ]
  },
  {
   "cell_type": "code",
   "execution_count": 8,
   "metadata": {
    "tags": []
   },
   "outputs": [
    {
     "output_type": "stream",
     "name": "stdout",
     "text": "total product =  2124\ntotal mother code =  716\n"
    }
   ],
   "source": [
    "unique_products = len(sales_result_ds['상품코드'].unique())\n",
    "unique_products_mother = len(sales_result_ds['마더코드'].unique())\n",
    "\n",
    "print(\"total product = \", unique_products)\n",
    "print(\"total mother code = \", unique_products_mother)"
   ]
  },
  {
   "cell_type": "markdown",
   "metadata": {},
   "source": [
    "### Null 값 확인"
   ]
  },
  {
   "cell_type": "code",
   "execution_count": 9,
   "metadata": {},
   "outputs": [
    {
     "output_type": "execute_result",
     "data": {
      "text/plain": "방송일시         0\n노출(분)    16784\n마더코드         0\n상품코드         0\n상품명          0\n상품군          0\n판매단가         0\n취급액       2930\ndtype: int64"
     },
     "metadata": {},
     "execution_count": 9
    }
   ],
   "source": [
    "sales_result_ds.isnull().sum()"
   ]
  },
  {
   "cell_type": "markdown",
   "metadata": {},
   "source": [
    "Null 값은 \"노출(분)\"과 \"취급액\" column에만 존재. __\"노출(분)\"의 Null 값은 방송되고 있는 상품의 다른 옵션이라고 생각된다. (예를 들어, 남성/여성, 일시불/무이자...)__"
   ]
  },
  {
   "cell_type": "code",
   "execution_count": 10,
   "metadata": {},
   "outputs": [
    {
     "output_type": "execute_result",
     "data": {
      "text/plain": "                      방송일시    노출(분)    마더코드    상품코드  \\\n145    2019-01-02 22:00:00      NaN  100148  200432   \n148    2019-01-02 22:00:00      NaN  100148  200518   \n149    2019-01-02 22:00:00      NaN  100148  200451   \n154    2019-01-02 22:20:00      NaN  100148  200518   \n155    2019-01-02 22:20:00      NaN  100148  200451   \n...                    ...      ...     ...     ...   \n38305  2020-01-01 00:20:00       20  100073  200196   \n38306  2020-01-01 00:40:00       20  100073  200196   \n38307  2020-01-01 01:00:00       20  100073  200196   \n38308  2020-01-01 01:20:00       20  100490  201478   \n38309  2020-01-01 01:40:00  17.1667  100490  201478   \n\n                               상품명 상품군     판매단가  취급액  \n145    무이자 LG 울트라HD TV 55UK6800HNC  가전  1440000  NaN  \n148    일시불 LG 울트라HD TV 70UK7400KNA  가전  2700000  NaN  \n149    무이자 LG 울트라HD TV 70UK7400KNA  가전  2990000  NaN  \n154    일시불 LG 울트라HD TV 70UK7400KNA  가전  2700000  NaN  \n155    무이자 LG 울트라HD TV 70UK7400KNA  가전  2990000  NaN  \n...                            ...  ..      ...  ...  \n38305     삼성화재 행복한파트너 주택화재보험(1912)  무형        0  NaN  \n38306     삼성화재 행복한파트너 주택화재보험(1912)  무형        0  NaN  \n38307     삼성화재 행복한파트너 주택화재보험(1912)  무형        0  NaN  \n38308           더케이 예다함 상조서비스(티포트)  무형        0  NaN  \n38309           더케이 예다함 상조서비스(티포트)  무형        0  NaN  \n\n[2930 rows x 8 columns]",
      "text/html": "<div>\n<style scoped>\n    .dataframe tbody tr th:only-of-type {\n        vertical-align: middle;\n    }\n\n    .dataframe tbody tr th {\n        vertical-align: top;\n    }\n\n    .dataframe thead th {\n        text-align: right;\n    }\n</style>\n<table border=\"1\" class=\"dataframe\">\n  <thead>\n    <tr style=\"text-align: right;\">\n      <th></th>\n      <th>방송일시</th>\n      <th>노출(분)</th>\n      <th>마더코드</th>\n      <th>상품코드</th>\n      <th>상품명</th>\n      <th>상품군</th>\n      <th>판매단가</th>\n      <th>취급액</th>\n    </tr>\n  </thead>\n  <tbody>\n    <tr>\n      <th>145</th>\n      <td>2019-01-02 22:00:00</td>\n      <td>NaN</td>\n      <td>100148</td>\n      <td>200432</td>\n      <td>무이자 LG 울트라HD TV 55UK6800HNC</td>\n      <td>가전</td>\n      <td>1440000</td>\n      <td>NaN</td>\n    </tr>\n    <tr>\n      <th>148</th>\n      <td>2019-01-02 22:00:00</td>\n      <td>NaN</td>\n      <td>100148</td>\n      <td>200518</td>\n      <td>일시불 LG 울트라HD TV 70UK7400KNA</td>\n      <td>가전</td>\n      <td>2700000</td>\n      <td>NaN</td>\n    </tr>\n    <tr>\n      <th>149</th>\n      <td>2019-01-02 22:00:00</td>\n      <td>NaN</td>\n      <td>100148</td>\n      <td>200451</td>\n      <td>무이자 LG 울트라HD TV 70UK7400KNA</td>\n      <td>가전</td>\n      <td>2990000</td>\n      <td>NaN</td>\n    </tr>\n    <tr>\n      <th>154</th>\n      <td>2019-01-02 22:20:00</td>\n      <td>NaN</td>\n      <td>100148</td>\n      <td>200518</td>\n      <td>일시불 LG 울트라HD TV 70UK7400KNA</td>\n      <td>가전</td>\n      <td>2700000</td>\n      <td>NaN</td>\n    </tr>\n    <tr>\n      <th>155</th>\n      <td>2019-01-02 22:20:00</td>\n      <td>NaN</td>\n      <td>100148</td>\n      <td>200451</td>\n      <td>무이자 LG 울트라HD TV 70UK7400KNA</td>\n      <td>가전</td>\n      <td>2990000</td>\n      <td>NaN</td>\n    </tr>\n    <tr>\n      <th>...</th>\n      <td>...</td>\n      <td>...</td>\n      <td>...</td>\n      <td>...</td>\n      <td>...</td>\n      <td>...</td>\n      <td>...</td>\n      <td>...</td>\n    </tr>\n    <tr>\n      <th>38305</th>\n      <td>2020-01-01 00:20:00</td>\n      <td>20</td>\n      <td>100073</td>\n      <td>200196</td>\n      <td>삼성화재 행복한파트너 주택화재보험(1912)</td>\n      <td>무형</td>\n      <td>0</td>\n      <td>NaN</td>\n    </tr>\n    <tr>\n      <th>38306</th>\n      <td>2020-01-01 00:40:00</td>\n      <td>20</td>\n      <td>100073</td>\n      <td>200196</td>\n      <td>삼성화재 행복한파트너 주택화재보험(1912)</td>\n      <td>무형</td>\n      <td>0</td>\n      <td>NaN</td>\n    </tr>\n    <tr>\n      <th>38307</th>\n      <td>2020-01-01 01:00:00</td>\n      <td>20</td>\n      <td>100073</td>\n      <td>200196</td>\n      <td>삼성화재 행복한파트너 주택화재보험(1912)</td>\n      <td>무형</td>\n      <td>0</td>\n      <td>NaN</td>\n    </tr>\n    <tr>\n      <th>38308</th>\n      <td>2020-01-01 01:20:00</td>\n      <td>20</td>\n      <td>100490</td>\n      <td>201478</td>\n      <td>더케이 예다함 상조서비스(티포트)</td>\n      <td>무형</td>\n      <td>0</td>\n      <td>NaN</td>\n    </tr>\n    <tr>\n      <th>38309</th>\n      <td>2020-01-01 01:40:00</td>\n      <td>17.1667</td>\n      <td>100490</td>\n      <td>201478</td>\n      <td>더케이 예다함 상조서비스(티포트)</td>\n      <td>무형</td>\n      <td>0</td>\n      <td>NaN</td>\n    </tr>\n  </tbody>\n</table>\n<p>2930 rows × 8 columns</p>\n</div>"
     },
     "metadata": {},
     "execution_count": 10
    }
   ],
   "source": [
    "sales_result_ds.loc[sales_result_ds.취급액.isnull()]"
   ]
  },
  {
   "cell_type": "markdown",
   "metadata": {},
   "source": [
    "취급액의 Null 값은 추후 분석이 필요할 것 같다."
   ]
  },
  {
   "cell_type": "code",
   "execution_count": 11,
   "metadata": {},
   "outputs": [],
   "source": [
    "# 일단 편의를 위해 Null 값을 0으로 채우자\n",
    "sales_result_ds = sales_result_ds.fillna(0)"
   ]
  },
  {
   "cell_type": "code",
   "execution_count": 12,
   "metadata": {},
   "outputs": [
    {
     "output_type": "execute_result",
     "data": {
      "text/plain": "시간대                         0\n2019-01-01                  0\n2019-01-02                  0\n2019-01-03                  0\n2019-01-04                  0\n                           ..\n2019-12-28                  0\n2019-12-29                  0\n2019-12-30                  0\n2019-12-31                  0\n2019-01-01 to 2019-12-31    0\nLength: 367, dtype: int64"
     },
     "metadata": {},
     "execution_count": 12
    }
   ],
   "source": [
    "rating_ds.isnull().sum()"
   ]
  },
  {
   "cell_type": "markdown",
   "metadata": {},
   "source": [
    "rating_ds에는 null 값이 존재하지 않는다."
   ]
  },
  {
   "cell_type": "markdown",
   "metadata": {},
   "source": [
    "### 데이터 타입 변환하기"
   ]
  },
  {
   "cell_type": "code",
   "execution_count": 13,
   "metadata": {
    "tags": []
   },
   "outputs": [
    {
     "output_type": "stream",
     "name": "stdout",
     "text": "<class 'pandas.core.frame.DataFrame'>\nRangeIndex: 38309 entries, 1 to 38309\nData columns (total 8 columns):\n #   Column  Non-Null Count  Dtype         \n---  ------  --------------  -----         \n 0   방송일시    38309 non-null  datetime64[ns]\n 1   노출(분)   38309 non-null  float64       \n 2   마더코드    38309 non-null  int64         \n 3   상품코드    38309 non-null  int64         \n 4   상품명     38309 non-null  object        \n 5   상품군     38309 non-null  object        \n 6   판매단가    38309 non-null  int64         \n 7   취급액     38309 non-null  int64         \ndtypes: datetime64[ns](1), float64(1), int64(4), object(2)\nmemory usage: 2.3+ MB\n"
    }
   ],
   "source": [
    "sales_result_ds.info()"
   ]
  },
  {
   "cell_type": "markdown",
   "metadata": {},
   "source": [
    "sales_result_ds에 있는 데이터의 타입이 모두 'object' 이다. 앞으로의 데이터 관리를 용이하게 하기 위해 데이터 타입을 변경하고자 한다."
   ]
  },
  {
   "cell_type": "code",
   "execution_count": 14,
   "metadata": {},
   "outputs": [],
   "source": [
    "sales_result_ds = sales_result_ds.astype({'노출(분)':int, '마더코드':int, '상품코드':int, '판매단가':int, '취급액':int})"
   ]
  },
  {
   "cell_type": "code",
   "execution_count": 15,
   "metadata": {
    "tags": []
   },
   "outputs": [],
   "source": [
    "sales_result_ds['방송일시'] = pd.to_datetime(sales_result_ds['방송일시'], format='%Y-%m-%d %H:%M:%S', errors='raise') # 방송일시 datetime으로 변환"
   ]
  },
  {
   "cell_type": "markdown",
   "metadata": {},
   "source": [
    "## Metadata"
   ]
  },
  {
   "cell_type": "markdown",
   "metadata": {},
   "source": [
    "데이터 관리를 위해, DataFrame에 meta 정보를 저장한다.\n",
    "- role: input, ID, target\n",
    "- level: nominal, continous, discrete, date\n",
    "- keep: True or False\n",
    "- dtype: int, float, str, datetime"
   ]
  },
  {
   "cell_type": "code",
   "execution_count": 20,
   "metadata": {},
   "outputs": [],
   "source": [
    "data = []\n",
    "for f in sales_result_ds.columns:\n",
    "    # role 정의\n",
    "    if f == '취급액':\n",
    "        role = 'target'\n",
    "    elif f == '상품코드':\n",
    "        role = 'id'\n",
    "    else:\n",
    "        role = 'input'\n",
    "         \n",
    "    # level 정의\n",
    "    if f == '방송일시':\n",
    "        level = 'date'\n",
    "    elif f == '노출(분)':\n",
    "        level = 'discrete'\n",
    "    elif f == '마더코드' or f == '상품코드' or f == '상품명' or f == '상품군':\n",
    "        level = 'nominal'\n",
    "    else:\n",
    "        level = 'continous'\n",
    "        \n",
    "    # 상품코드(id)를 제외한 나머지 변수들의 keep를 True로 초기화\n",
    "    keep = True\n",
    "    if f == '상품코드':\n",
    "        keep = False\n",
    "    \n",
    "    # data type 정의 \n",
    "    dtype = sales_result_ds[f].dtype\n",
    "    \n",
    "    # Creating a Dict that contains all the metadata for the variable\n",
    "    f_dict = {\n",
    "        'varname': f,\n",
    "        'role': role,\n",
    "        'level': level,\n",
    "        'keep': keep,\n",
    "        'dtype': dtype\n",
    "    }\n",
    "    data.append(f_dict)\n",
    "    \n",
    "meta = pd.DataFrame(data, columns=['varname', 'role', 'level', 'keep', 'dtype'])\n",
    "meta.set_index('varname', inplace=True)"
   ]
  },
  {
   "cell_type": "code",
   "execution_count": 21,
   "metadata": {},
   "outputs": [
    {
     "output_type": "execute_result",
     "data": {
      "text/plain": "           role      level   keep           dtype\nvarname                                          \n방송일시      input       date   True  datetime64[ns]\n노출(분)     input   discrete   True           int64\n마더코드      input    nominal   True           int64\n상품코드         id    nominal  False           int64\n상품명       input    nominal   True          object\n상품군       input    nominal   True          object\n판매단가      input  continous   True           int64\n취급액      target  continous   True           int64",
      "text/html": "<div>\n<style scoped>\n    .dataframe tbody tr th:only-of-type {\n        vertical-align: middle;\n    }\n\n    .dataframe tbody tr th {\n        vertical-align: top;\n    }\n\n    .dataframe thead th {\n        text-align: right;\n    }\n</style>\n<table border=\"1\" class=\"dataframe\">\n  <thead>\n    <tr style=\"text-align: right;\">\n      <th></th>\n      <th>role</th>\n      <th>level</th>\n      <th>keep</th>\n      <th>dtype</th>\n    </tr>\n    <tr>\n      <th>varname</th>\n      <th></th>\n      <th></th>\n      <th></th>\n      <th></th>\n    </tr>\n  </thead>\n  <tbody>\n    <tr>\n      <th>방송일시</th>\n      <td>input</td>\n      <td>date</td>\n      <td>True</td>\n      <td>datetime64[ns]</td>\n    </tr>\n    <tr>\n      <th>노출(분)</th>\n      <td>input</td>\n      <td>discrete</td>\n      <td>True</td>\n      <td>int64</td>\n    </tr>\n    <tr>\n      <th>마더코드</th>\n      <td>input</td>\n      <td>nominal</td>\n      <td>True</td>\n      <td>int64</td>\n    </tr>\n    <tr>\n      <th>상품코드</th>\n      <td>id</td>\n      <td>nominal</td>\n      <td>False</td>\n      <td>int64</td>\n    </tr>\n    <tr>\n      <th>상품명</th>\n      <td>input</td>\n      <td>nominal</td>\n      <td>True</td>\n      <td>object</td>\n    </tr>\n    <tr>\n      <th>상품군</th>\n      <td>input</td>\n      <td>nominal</td>\n      <td>True</td>\n      <td>object</td>\n    </tr>\n    <tr>\n      <th>판매단가</th>\n      <td>input</td>\n      <td>continous</td>\n      <td>True</td>\n      <td>int64</td>\n    </tr>\n    <tr>\n      <th>취급액</th>\n      <td>target</td>\n      <td>continous</td>\n      <td>True</td>\n      <td>int64</td>\n    </tr>\n  </tbody>\n</table>\n</div>"
     },
     "metadata": {},
     "execution_count": 21
    }
   ],
   "source": [
    "meta"
   ]
  },
  {
   "cell_type": "code",
   "execution_count": null,
   "metadata": {},
   "outputs": [],
   "source": []
  }
 ]
}