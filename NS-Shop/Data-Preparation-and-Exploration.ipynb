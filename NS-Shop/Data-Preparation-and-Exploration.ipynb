{
 "metadata": {
  "language_info": {
   "codemirror_mode": {
    "name": "ipython",
    "version": 3
   },
   "file_extension": ".py",
   "mimetype": "text/x-python",
   "name": "python",
   "nbconvert_exporter": "python",
   "pygments_lexer": "ipython3",
   "version": "3.8.3-final"
  },
  "orig_nbformat": 2,
  "kernelspec": {
   "name": "python3",
   "display_name": "Python 3"
  }
 },
 "nbformat": 4,
 "nbformat_minor": 2,
 "cells": [
  {
   "cell_type": "markdown",
   "metadata": {},
   "source": [
    "# Data Preparation and Exploration"
   ]
  },
  {
   "cell_type": "markdown",
   "metadata": {},
   "source": [
    "## Introduction"
   ]
  },
  {
   "cell_type": "markdown",
   "metadata": {},
   "source": [
    "이 노트북은 NS 홈쇼핑 대회의 데이터에 대한 의미있는 인사이트를 얻는 것에 목적을 둔다."
   ]
  },
  {
   "cell_type": "markdown",
   "metadata": {},
   "source": [
    "## Loading packages"
   ]
  },
  {
   "cell_type": "code",
   "execution_count": 40,
   "metadata": {},
   "outputs": [],
   "source": [
    "import pandas as pd\n",
    "import numpy as np\n",
    "import matplotlib.pyplot as plt\n",
    "import seaborn as sns\n",
    "\n",
    "%matplotlib inline"
   ]
  },
  {
   "cell_type": "code",
   "execution_count": 44,
   "metadata": {},
   "outputs": [],
   "source": [
    "plt.rc('font', family='AppleGothic')\n",
    "plt.rcParams['axes.unicode_minus'] = False"
   ]
  },
  {
   "cell_type": "markdown",
   "metadata": {},
   "source": [
    "## Loading data"
   ]
  },
  {
   "cell_type": "code",
   "execution_count": 2,
   "metadata": {},
   "outputs": [],
   "source": [
    "sales_result_ds = pd.read_excel('./data/sales_result.xlsx')\n",
    "rating_ds = pd.read_excel('./data/rating.xlsx')"
   ]
  },
  {
   "cell_type": "code",
   "execution_count": 3,
   "metadata": {},
   "outputs": [],
   "source": [
    "# sales_result_ds column 수정\n",
    "header = sales_result_ds.iloc[0]\n",
    "sales_result_ds = sales_result_ds[1:] \n",
    "sales_result_ds.rename(columns = header, inplace=True)\n",
    "\n",
    "# rating_ds column 수정\n",
    "header = rating_ds.iloc[0]\n",
    "rating_ds = rating_ds[1:] \n",
    "rating_ds.rename(columns = header, inplace=True)"
   ]
  },
  {
   "cell_type": "markdown",
   "metadata": {},
   "source": [
    "## Data at first sight"
   ]
  },
  {
   "cell_type": "code",
   "execution_count": 4,
   "metadata": {},
   "outputs": [
    {
     "output_type": "execute_result",
     "data": {
      "text/plain": "                  방송일시 노출(분)    마더코드    상품코드            상품명 상품군   판매단가  \\\n1  2019-01-01 06:00:00    20  100346  201072  테이트 남성 셀린니트3종  의류  39900   \n2  2019-01-01 06:00:00   NaN  100346  201079  테이트 여성 셀린니트3종  의류  39900   \n3  2019-01-01 06:20:00    20  100346  201072  테이트 남성 셀린니트3종  의류  39900   \n4  2019-01-01 06:20:00   NaN  100346  201079  테이트 여성 셀린니트3종  의류  39900   \n5  2019-01-01 06:40:00    20  100346  201072  테이트 남성 셀린니트3종  의류  39900   \n\n       취급액  \n1  2099000  \n2  4371000  \n3  3262000  \n4  6955000  \n5  6672000  ",
      "text/html": "<div>\n<style scoped>\n    .dataframe tbody tr th:only-of-type {\n        vertical-align: middle;\n    }\n\n    .dataframe tbody tr th {\n        vertical-align: top;\n    }\n\n    .dataframe thead th {\n        text-align: right;\n    }\n</style>\n<table border=\"1\" class=\"dataframe\">\n  <thead>\n    <tr style=\"text-align: right;\">\n      <th></th>\n      <th>방송일시</th>\n      <th>노출(분)</th>\n      <th>마더코드</th>\n      <th>상품코드</th>\n      <th>상품명</th>\n      <th>상품군</th>\n      <th>판매단가</th>\n      <th>취급액</th>\n    </tr>\n  </thead>\n  <tbody>\n    <tr>\n      <th>1</th>\n      <td>2019-01-01 06:00:00</td>\n      <td>20</td>\n      <td>100346</td>\n      <td>201072</td>\n      <td>테이트 남성 셀린니트3종</td>\n      <td>의류</td>\n      <td>39900</td>\n      <td>2099000</td>\n    </tr>\n    <tr>\n      <th>2</th>\n      <td>2019-01-01 06:00:00</td>\n      <td>NaN</td>\n      <td>100346</td>\n      <td>201079</td>\n      <td>테이트 여성 셀린니트3종</td>\n      <td>의류</td>\n      <td>39900</td>\n      <td>4371000</td>\n    </tr>\n    <tr>\n      <th>3</th>\n      <td>2019-01-01 06:20:00</td>\n      <td>20</td>\n      <td>100346</td>\n      <td>201072</td>\n      <td>테이트 남성 셀린니트3종</td>\n      <td>의류</td>\n      <td>39900</td>\n      <td>3262000</td>\n    </tr>\n    <tr>\n      <th>4</th>\n      <td>2019-01-01 06:20:00</td>\n      <td>NaN</td>\n      <td>100346</td>\n      <td>201079</td>\n      <td>테이트 여성 셀린니트3종</td>\n      <td>의류</td>\n      <td>39900</td>\n      <td>6955000</td>\n    </tr>\n    <tr>\n      <th>5</th>\n      <td>2019-01-01 06:40:00</td>\n      <td>20</td>\n      <td>100346</td>\n      <td>201072</td>\n      <td>테이트 남성 셀린니트3종</td>\n      <td>의류</td>\n      <td>39900</td>\n      <td>6672000</td>\n    </tr>\n  </tbody>\n</table>\n</div>"
     },
     "metadata": {},
     "execution_count": 4
    }
   ],
   "source": [
    "sales_result_ds.head()"
   ]
  },
  {
   "cell_type": "code",
   "execution_count": 5,
   "metadata": {},
   "outputs": [
    {
     "output_type": "execute_result",
     "data": {
      "text/plain": "     시간대 2019-01-01 2019-01-02 2019-01-03 2019-01-04 2019-01-05 2019-01-06  \\\n1  02:00          0          0          0          0          0          0   \n2  02:01          0          0          0          0          0          0   \n3  02:02          0          0          0          0          0          0   \n4  02:03          0          0      0.014          0          0          0   \n5  02:04          0          0          0          0          0          0   \n\n  2019-01-07 2019-01-08 2019-01-09  ... 2019-12-23 2019-12-24 2019-12-25  \\\n1          0          0          0  ...          0          0          0   \n2          0          0          0  ...          0          0          0   \n3          0          0          0  ...          0          0          0   \n4          0          0          0  ...          0          0      0.017   \n5          0          0          0  ...          0          0      0.017   \n\n  2019-12-26 2019-12-27 2019-12-28 2019-12-29 2019-12-30 2019-12-31  \\\n1          0          0          0          0          0          0   \n2          0          0          0          0          0      0.012   \n3          0          0          0          0          0          0   \n4          0          0          0          0          0          0   \n5          0          0          0          0          0          0   \n\n  2019-01-01 to 2019-12-31  \n1                    0.003  \n2                    0.003  \n3                    0.004  \n4                    0.004  \n5                    0.004  \n\n[5 rows x 367 columns]",
      "text/html": "<div>\n<style scoped>\n    .dataframe tbody tr th:only-of-type {\n        vertical-align: middle;\n    }\n\n    .dataframe tbody tr th {\n        vertical-align: top;\n    }\n\n    .dataframe thead th {\n        text-align: right;\n    }\n</style>\n<table border=\"1\" class=\"dataframe\">\n  <thead>\n    <tr style=\"text-align: right;\">\n      <th></th>\n      <th>시간대</th>\n      <th>2019-01-01</th>\n      <th>2019-01-02</th>\n      <th>2019-01-03</th>\n      <th>2019-01-04</th>\n      <th>2019-01-05</th>\n      <th>2019-01-06</th>\n      <th>2019-01-07</th>\n      <th>2019-01-08</th>\n      <th>2019-01-09</th>\n      <th>...</th>\n      <th>2019-12-23</th>\n      <th>2019-12-24</th>\n      <th>2019-12-25</th>\n      <th>2019-12-26</th>\n      <th>2019-12-27</th>\n      <th>2019-12-28</th>\n      <th>2019-12-29</th>\n      <th>2019-12-30</th>\n      <th>2019-12-31</th>\n      <th>2019-01-01 to 2019-12-31</th>\n    </tr>\n  </thead>\n  <tbody>\n    <tr>\n      <th>1</th>\n      <td>02:00</td>\n      <td>0</td>\n      <td>0</td>\n      <td>0</td>\n      <td>0</td>\n      <td>0</td>\n      <td>0</td>\n      <td>0</td>\n      <td>0</td>\n      <td>0</td>\n      <td>...</td>\n      <td>0</td>\n      <td>0</td>\n      <td>0</td>\n      <td>0</td>\n      <td>0</td>\n      <td>0</td>\n      <td>0</td>\n      <td>0</td>\n      <td>0</td>\n      <td>0.003</td>\n    </tr>\n    <tr>\n      <th>2</th>\n      <td>02:01</td>\n      <td>0</td>\n      <td>0</td>\n      <td>0</td>\n      <td>0</td>\n      <td>0</td>\n      <td>0</td>\n      <td>0</td>\n      <td>0</td>\n      <td>0</td>\n      <td>...</td>\n      <td>0</td>\n      <td>0</td>\n      <td>0</td>\n      <td>0</td>\n      <td>0</td>\n      <td>0</td>\n      <td>0</td>\n      <td>0</td>\n      <td>0.012</td>\n      <td>0.003</td>\n    </tr>\n    <tr>\n      <th>3</th>\n      <td>02:02</td>\n      <td>0</td>\n      <td>0</td>\n      <td>0</td>\n      <td>0</td>\n      <td>0</td>\n      <td>0</td>\n      <td>0</td>\n      <td>0</td>\n      <td>0</td>\n      <td>...</td>\n      <td>0</td>\n      <td>0</td>\n      <td>0</td>\n      <td>0</td>\n      <td>0</td>\n      <td>0</td>\n      <td>0</td>\n      <td>0</td>\n      <td>0</td>\n      <td>0.004</td>\n    </tr>\n    <tr>\n      <th>4</th>\n      <td>02:03</td>\n      <td>0</td>\n      <td>0</td>\n      <td>0.014</td>\n      <td>0</td>\n      <td>0</td>\n      <td>0</td>\n      <td>0</td>\n      <td>0</td>\n      <td>0</td>\n      <td>...</td>\n      <td>0</td>\n      <td>0</td>\n      <td>0.017</td>\n      <td>0</td>\n      <td>0</td>\n      <td>0</td>\n      <td>0</td>\n      <td>0</td>\n      <td>0</td>\n      <td>0.004</td>\n    </tr>\n    <tr>\n      <th>5</th>\n      <td>02:04</td>\n      <td>0</td>\n      <td>0</td>\n      <td>0</td>\n      <td>0</td>\n      <td>0</td>\n      <td>0</td>\n      <td>0</td>\n      <td>0</td>\n      <td>0</td>\n      <td>...</td>\n      <td>0</td>\n      <td>0</td>\n      <td>0.017</td>\n      <td>0</td>\n      <td>0</td>\n      <td>0</td>\n      <td>0</td>\n      <td>0</td>\n      <td>0</td>\n      <td>0.004</td>\n    </tr>\n  </tbody>\n</table>\n<p>5 rows × 367 columns</p>\n</div>"
     },
     "metadata": {},
     "execution_count": 5
    }
   ],
   "source": [
    "rating_ds.head()"
   ]
  },
  {
   "cell_type": "code",
   "execution_count": 6,
   "metadata": {},
   "outputs": [
    {
     "output_type": "execute_result",
     "data": {
      "text/plain": "(38309, 8)"
     },
     "metadata": {},
     "execution_count": 6
    }
   ],
   "source": [
    "sales_result_ds.shape"
   ]
  },
  {
   "cell_type": "code",
   "execution_count": 7,
   "metadata": {},
   "outputs": [
    {
     "output_type": "execute_result",
     "data": {
      "text/plain": "(1441, 367)"
     },
     "metadata": {},
     "execution_count": 7
    }
   ],
   "source": [
    "rating_ds.shape"
   ]
  },
  {
   "cell_type": "markdown",
   "metadata": {},
   "source": [
    "### Simple stats of the Dataset"
   ]
  },
  {
   "cell_type": "code",
   "execution_count": 8,
   "metadata": {
    "tags": []
   },
   "outputs": [
    {
     "output_type": "stream",
     "name": "stdout",
     "text": "total product =  2124\ntotal mother code =  716\n"
    }
   ],
   "source": [
    "unique_products = len(sales_result_ds['상품코드'].unique())\n",
    "unique_products_mother = len(sales_result_ds['마더코드'].unique())\n",
    "\n",
    "print(\"total product = \", unique_products)\n",
    "print(\"total mother code = \", unique_products_mother)"
   ]
  },
  {
   "cell_type": "markdown",
   "metadata": {},
   "source": [
    "### Null 값 확인"
   ]
  },
  {
   "cell_type": "code",
   "execution_count": 9,
   "metadata": {},
   "outputs": [
    {
     "output_type": "execute_result",
     "data": {
      "text/plain": "방송일시         0\n노출(분)    16784\n마더코드         0\n상품코드         0\n상품명          0\n상품군          0\n판매단가         0\n취급액       2930\ndtype: int64"
     },
     "metadata": {},
     "execution_count": 9
    }
   ],
   "source": [
    "sales_result_ds.isnull().sum()"
   ]
  },
  {
   "cell_type": "markdown",
   "metadata": {},
   "source": [
    "Null 값은 \"노출(분)\"과 \"취급액\" column에만 존재. __\"노출(분)\"의 Null 값은 방송되고 있는 상품의 다른 옵션이라고 생각된다. (예를 들어, 남성/여성, 일시불/무이자...)__"
   ]
  },
  {
   "cell_type": "code",
   "execution_count": 10,
   "metadata": {},
   "outputs": [
    {
     "output_type": "execute_result",
     "data": {
      "text/plain": "                      방송일시    노출(분)    마더코드    상품코드  \\\n145    2019-01-02 22:00:00      NaN  100148  200432   \n148    2019-01-02 22:00:00      NaN  100148  200518   \n149    2019-01-02 22:00:00      NaN  100148  200451   \n154    2019-01-02 22:20:00      NaN  100148  200518   \n155    2019-01-02 22:20:00      NaN  100148  200451   \n...                    ...      ...     ...     ...   \n38305  2020-01-01 00:20:00       20  100073  200196   \n38306  2020-01-01 00:40:00       20  100073  200196   \n38307  2020-01-01 01:00:00       20  100073  200196   \n38308  2020-01-01 01:20:00       20  100490  201478   \n38309  2020-01-01 01:40:00  17.1667  100490  201478   \n\n                               상품명 상품군     판매단가  취급액  \n145    무이자 LG 울트라HD TV 55UK6800HNC  가전  1440000  NaN  \n148    일시불 LG 울트라HD TV 70UK7400KNA  가전  2700000  NaN  \n149    무이자 LG 울트라HD TV 70UK7400KNA  가전  2990000  NaN  \n154    일시불 LG 울트라HD TV 70UK7400KNA  가전  2700000  NaN  \n155    무이자 LG 울트라HD TV 70UK7400KNA  가전  2990000  NaN  \n...                            ...  ..      ...  ...  \n38305     삼성화재 행복한파트너 주택화재보험(1912)  무형        0  NaN  \n38306     삼성화재 행복한파트너 주택화재보험(1912)  무형        0  NaN  \n38307     삼성화재 행복한파트너 주택화재보험(1912)  무형        0  NaN  \n38308           더케이 예다함 상조서비스(티포트)  무형        0  NaN  \n38309           더케이 예다함 상조서비스(티포트)  무형        0  NaN  \n\n[2930 rows x 8 columns]",
      "text/html": "<div>\n<style scoped>\n    .dataframe tbody tr th:only-of-type {\n        vertical-align: middle;\n    }\n\n    .dataframe tbody tr th {\n        vertical-align: top;\n    }\n\n    .dataframe thead th {\n        text-align: right;\n    }\n</style>\n<table border=\"1\" class=\"dataframe\">\n  <thead>\n    <tr style=\"text-align: right;\">\n      <th></th>\n      <th>방송일시</th>\n      <th>노출(분)</th>\n      <th>마더코드</th>\n      <th>상품코드</th>\n      <th>상품명</th>\n      <th>상품군</th>\n      <th>판매단가</th>\n      <th>취급액</th>\n    </tr>\n  </thead>\n  <tbody>\n    <tr>\n      <th>145</th>\n      <td>2019-01-02 22:00:00</td>\n      <td>NaN</td>\n      <td>100148</td>\n      <td>200432</td>\n      <td>무이자 LG 울트라HD TV 55UK6800HNC</td>\n      <td>가전</td>\n      <td>1440000</td>\n      <td>NaN</td>\n    </tr>\n    <tr>\n      <th>148</th>\n      <td>2019-01-02 22:00:00</td>\n      <td>NaN</td>\n      <td>100148</td>\n      <td>200518</td>\n      <td>일시불 LG 울트라HD TV 70UK7400KNA</td>\n      <td>가전</td>\n      <td>2700000</td>\n      <td>NaN</td>\n    </tr>\n    <tr>\n      <th>149</th>\n      <td>2019-01-02 22:00:00</td>\n      <td>NaN</td>\n      <td>100148</td>\n      <td>200451</td>\n      <td>무이자 LG 울트라HD TV 70UK7400KNA</td>\n      <td>가전</td>\n      <td>2990000</td>\n      <td>NaN</td>\n    </tr>\n    <tr>\n      <th>154</th>\n      <td>2019-01-02 22:20:00</td>\n      <td>NaN</td>\n      <td>100148</td>\n      <td>200518</td>\n      <td>일시불 LG 울트라HD TV 70UK7400KNA</td>\n      <td>가전</td>\n      <td>2700000</td>\n      <td>NaN</td>\n    </tr>\n    <tr>\n      <th>155</th>\n      <td>2019-01-02 22:20:00</td>\n      <td>NaN</td>\n      <td>100148</td>\n      <td>200451</td>\n      <td>무이자 LG 울트라HD TV 70UK7400KNA</td>\n      <td>가전</td>\n      <td>2990000</td>\n      <td>NaN</td>\n    </tr>\n    <tr>\n      <th>...</th>\n      <td>...</td>\n      <td>...</td>\n      <td>...</td>\n      <td>...</td>\n      <td>...</td>\n      <td>...</td>\n      <td>...</td>\n      <td>...</td>\n    </tr>\n    <tr>\n      <th>38305</th>\n      <td>2020-01-01 00:20:00</td>\n      <td>20</td>\n      <td>100073</td>\n      <td>200196</td>\n      <td>삼성화재 행복한파트너 주택화재보험(1912)</td>\n      <td>무형</td>\n      <td>0</td>\n      <td>NaN</td>\n    </tr>\n    <tr>\n      <th>38306</th>\n      <td>2020-01-01 00:40:00</td>\n      <td>20</td>\n      <td>100073</td>\n      <td>200196</td>\n      <td>삼성화재 행복한파트너 주택화재보험(1912)</td>\n      <td>무형</td>\n      <td>0</td>\n      <td>NaN</td>\n    </tr>\n    <tr>\n      <th>38307</th>\n      <td>2020-01-01 01:00:00</td>\n      <td>20</td>\n      <td>100073</td>\n      <td>200196</td>\n      <td>삼성화재 행복한파트너 주택화재보험(1912)</td>\n      <td>무형</td>\n      <td>0</td>\n      <td>NaN</td>\n    </tr>\n    <tr>\n      <th>38308</th>\n      <td>2020-01-01 01:20:00</td>\n      <td>20</td>\n      <td>100490</td>\n      <td>201478</td>\n      <td>더케이 예다함 상조서비스(티포트)</td>\n      <td>무형</td>\n      <td>0</td>\n      <td>NaN</td>\n    </tr>\n    <tr>\n      <th>38309</th>\n      <td>2020-01-01 01:40:00</td>\n      <td>17.1667</td>\n      <td>100490</td>\n      <td>201478</td>\n      <td>더케이 예다함 상조서비스(티포트)</td>\n      <td>무형</td>\n      <td>0</td>\n      <td>NaN</td>\n    </tr>\n  </tbody>\n</table>\n<p>2930 rows × 8 columns</p>\n</div>"
     },
     "metadata": {},
     "execution_count": 10
    }
   ],
   "source": [
    "sales_result_ds.loc[sales_result_ds.취급액.isnull()]"
   ]
  },
  {
   "cell_type": "markdown",
   "metadata": {},
   "source": [
    "취급액의 Null 값은 추후 분석이 필요할 것 같다."
   ]
  },
  {
   "cell_type": "code",
   "execution_count": 11,
   "metadata": {},
   "outputs": [],
   "source": [
    "# 일단 편의를 위해 Null 값을 0으로 채우자\n",
    "sales_result_ds = sales_result_ds.fillna(0)"
   ]
  },
  {
   "cell_type": "code",
   "execution_count": 12,
   "metadata": {},
   "outputs": [
    {
     "output_type": "execute_result",
     "data": {
      "text/plain": "시간대                         0\n2019-01-01                  0\n2019-01-02                  0\n2019-01-03                  0\n2019-01-04                  0\n                           ..\n2019-12-28                  0\n2019-12-29                  0\n2019-12-30                  0\n2019-12-31                  0\n2019-01-01 to 2019-12-31    0\nLength: 367, dtype: int64"
     },
     "metadata": {},
     "execution_count": 12
    }
   ],
   "source": [
    "rating_ds.isnull().sum()"
   ]
  },
  {
   "cell_type": "markdown",
   "metadata": {},
   "source": [
    "rating_ds에는 null 값이 존재하지 않는다."
   ]
  },
  {
   "cell_type": "markdown",
   "metadata": {},
   "source": [
    "### 데이터 타입 변환하기"
   ]
  },
  {
   "cell_type": "code",
   "execution_count": 13,
   "metadata": {
    "tags": []
   },
   "outputs": [
    {
     "output_type": "stream",
     "name": "stdout",
     "text": "<class 'pandas.core.frame.DataFrame'>\nRangeIndex: 38309 entries, 1 to 38309\nData columns (total 8 columns):\n #   Column  Non-Null Count  Dtype         \n---  ------  --------------  -----         \n 0   방송일시    38309 non-null  datetime64[ns]\n 1   노출(분)   38309 non-null  float64       \n 2   마더코드    38309 non-null  int64         \n 3   상품코드    38309 non-null  int64         \n 4   상품명     38309 non-null  object        \n 5   상품군     38309 non-null  object        \n 6   판매단가    38309 non-null  int64         \n 7   취급액     38309 non-null  int64         \ndtypes: datetime64[ns](1), float64(1), int64(4), object(2)\nmemory usage: 2.3+ MB\n"
    }
   ],
   "source": [
    "sales_result_ds.info()"
   ]
  },
  {
   "cell_type": "markdown",
   "metadata": {},
   "source": [
    "sales_result_ds에 있는 데이터의 타입이 모두 'object' 이다. 앞으로의 데이터 관리를 용이하게 하기 위해 데이터 타입을 변경하고자 한다."
   ]
  },
  {
   "cell_type": "code",
   "execution_count": 14,
   "metadata": {},
   "outputs": [],
   "source": [
    "sales_result_ds = sales_result_ds.astype({'노출(분)':int, '마더코드':int, '상품코드':int, '판매단가':int, '취급액':int})"
   ]
  },
  {
   "cell_type": "code",
   "execution_count": 15,
   "metadata": {
    "tags": []
   },
   "outputs": [],
   "source": [
    "sales_result_ds['방송일시'] = pd.to_datetime(sales_result_ds['방송일시'], format='%Y-%m-%d %H:%M:%S', errors='raise') # 방송일시 datetime으로 변환"
   ]
  },
  {
   "cell_type": "markdown",
   "metadata": {},
   "source": [
    "## Metadata"
   ]
  },
  {
   "cell_type": "markdown",
   "metadata": {},
   "source": [
    "데이터 관리를 위해, DataFrame에 meta 정보를 저장한다.\n",
    "- role: input, ID, target\n",
    "- level: nominal, continous, discrete, date\n",
    "- keep: True or False\n",
    "- dtype: int, float, str, datetime"
   ]
  },
  {
   "cell_type": "code",
   "execution_count": 20,
   "metadata": {},
   "outputs": [],
   "source": [
    "data = []\n",
    "for f in sales_result_ds.columns:\n",
    "    # role 정의\n",
    "    if f == '취급액':\n",
    "        role = 'target'\n",
    "    elif f == '상품코드':\n",
    "        role = 'id'\n",
    "    else:\n",
    "        role = 'input'\n",
    "         \n",
    "    # level 정의\n",
    "    if f == '방송일시':\n",
    "        level = 'date'\n",
    "    elif f == '노출(분)':\n",
    "        level = 'discrete'\n",
    "    elif f == '마더코드' or f == '상품코드' or f == '상품명' or f == '상품군':\n",
    "        level = 'nominal'\n",
    "    else:\n",
    "        level = 'continous'\n",
    "        \n",
    "    # 상품코드(id)를 제외한 나머지 변수들의 keep를 True로 초기화\n",
    "    keep = True\n",
    "    if f == '상품코드':\n",
    "        keep = False\n",
    "    \n",
    "    # data type 정의 \n",
    "    dtype = sales_result_ds[f].dtype\n",
    "    \n",
    "    # Creating a Dict that contains all the metadata for the variable\n",
    "    f_dict = {\n",
    "        'varname': f,\n",
    "        'role': role,\n",
    "        'level': level,\n",
    "        'keep': keep,\n",
    "        'dtype': dtype\n",
    "    }\n",
    "    data.append(f_dict)\n",
    "    \n",
    "meta = pd.DataFrame(data, columns=['varname', 'role', 'level', 'keep', 'dtype'])\n",
    "meta.set_index('varname', inplace=True)"
   ]
  },
  {
   "cell_type": "code",
   "execution_count": 21,
   "metadata": {},
   "outputs": [
    {
     "output_type": "execute_result",
     "data": {
      "text/plain": "           role      level   keep           dtype\nvarname                                          \n방송일시      input       date   True  datetime64[ns]\n노출(분)     input   discrete   True           int64\n마더코드      input    nominal   True           int64\n상품코드         id    nominal  False           int64\n상품명       input    nominal   True          object\n상품군       input    nominal   True          object\n판매단가      input  continous   True           int64\n취급액      target  continous   True           int64",
      "text/html": "<div>\n<style scoped>\n    .dataframe tbody tr th:only-of-type {\n        vertical-align: middle;\n    }\n\n    .dataframe tbody tr th {\n        vertical-align: top;\n    }\n\n    .dataframe thead th {\n        text-align: right;\n    }\n</style>\n<table border=\"1\" class=\"dataframe\">\n  <thead>\n    <tr style=\"text-align: right;\">\n      <th></th>\n      <th>role</th>\n      <th>level</th>\n      <th>keep</th>\n      <th>dtype</th>\n    </tr>\n    <tr>\n      <th>varname</th>\n      <th></th>\n      <th></th>\n      <th></th>\n      <th></th>\n    </tr>\n  </thead>\n  <tbody>\n    <tr>\n      <th>방송일시</th>\n      <td>input</td>\n      <td>date</td>\n      <td>True</td>\n      <td>datetime64[ns]</td>\n    </tr>\n    <tr>\n      <th>노출(분)</th>\n      <td>input</td>\n      <td>discrete</td>\n      <td>True</td>\n      <td>int64</td>\n    </tr>\n    <tr>\n      <th>마더코드</th>\n      <td>input</td>\n      <td>nominal</td>\n      <td>True</td>\n      <td>int64</td>\n    </tr>\n    <tr>\n      <th>상품코드</th>\n      <td>id</td>\n      <td>nominal</td>\n      <td>False</td>\n      <td>int64</td>\n    </tr>\n    <tr>\n      <th>상품명</th>\n      <td>input</td>\n      <td>nominal</td>\n      <td>True</td>\n      <td>object</td>\n    </tr>\n    <tr>\n      <th>상품군</th>\n      <td>input</td>\n      <td>nominal</td>\n      <td>True</td>\n      <td>object</td>\n    </tr>\n    <tr>\n      <th>판매단가</th>\n      <td>input</td>\n      <td>continous</td>\n      <td>True</td>\n      <td>int64</td>\n    </tr>\n    <tr>\n      <th>취급액</th>\n      <td>target</td>\n      <td>continous</td>\n      <td>True</td>\n      <td>int64</td>\n    </tr>\n  </tbody>\n</table>\n</div>"
     },
     "metadata": {},
     "execution_count": 21
    }
   ],
   "source": [
    "meta"
   ]
  },
  {
   "cell_type": "markdown",
   "metadata": {},
   "source": [
    "## Analyzing The Features"
   ]
  },
  {
   "cell_type": "markdown",
   "metadata": {},
   "source": [
    "### 노출(분)"
   ]
  },
  {
   "cell_type": "code",
   "execution_count": 30,
   "metadata": {},
   "outputs": [
    {
     "output_type": "execute_result",
     "data": {
      "text/plain": "array([20,  0, 30, 17, 27, 16, 26, 60, 12, 15,  2, 25, 14, 24, 22, 10, 13,\n       23,  3,  5,  8, 19,  7, 18,  6, 11, 29,  9, 40])"
     },
     "metadata": {},
     "execution_count": 30
    }
   ],
   "source": [
    "sales_result_ds['노출(분)'].unique()"
   ]
  },
  {
   "cell_type": "code",
   "execution_count": 51,
   "metadata": {},
   "outputs": [
    {
     "output_type": "execute_result",
     "data": {
      "text/plain": "20    19061\n0     16784\n30     1163\n10      763\n15      189\n16      122\n17       61\n60       48\n13       48\n14       12\n25        6\n26        6\n12        6\n3         5\n23        5\n5         5\n6         5\n11        3\n22        3\n18        3\n19        2\n2         2\n9         1\n40        1\n8         1\n7         1\n29        1\n24        1\n27        1\nName: 노출(분), dtype: int64"
     },
     "metadata": {},
     "execution_count": 51
    }
   ],
   "source": [
    "sales_result_ds['노출(분)'].value_counts()"
   ]
  },
  {
   "cell_type": "code",
   "execution_count": 46,
   "metadata": {
    "tags": []
   },
   "outputs": [
    {
     "output_type": "display_data",
     "data": {
      "text/plain": "<Figure size 864x432 with 1 Axes>",
      "image/svg+xml": "<?xml version=\"1.0\" encoding=\"utf-8\" standalone=\"no\"?>\n<!DOCTYPE svg PUBLIC \"-//W3C//DTD SVG 1.1//EN\"\n  \"http://www.w3.org/Graphics/SVG/1.1/DTD/svg11.dtd\">\n<!-- Created with matplotlib (https://matplotlib.org/) -->\n<svg height=\"404.7975pt\" version=\"1.1\" viewBox=\"0 0 768.3 404.7975\" width=\"768.3pt\" xmlns=\"http://www.w3.org/2000/svg\" xmlns:xlink=\"http://www.w3.org/1999/xlink\">\n <defs>\n  <style type=\"text/css\">\n*{stroke-linecap:butt;stroke-linejoin:round;}\n  </style>\n </defs>\n <g id=\"figure_1\">\n  <g id=\"patch_1\">\n   <path d=\"M 0 404.7975 \nL 768.3 404.7975 \nL 768.3 0 \nL 0 0 \nz\n\" style=\"fill:none;\"/>\n  </g>\n  <g id=\"axes_1\">\n   <g id=\"patch_2\">\n    <path d=\"M 91.5 358.1775 \nL 761.1 358.1775 \nL 761.1 32.0175 \nL 91.5 32.0175 \nz\n\" style=\"fill:#ffffff;\"/>\n   </g>\n   <g id=\"matplotlib.axis_1\">\n    <g id=\"xtick_1\">\n     <g id=\"line2d_1\">\n      <path clip-path=\"url(#p924637c719)\" d=\"M 103.044828 358.1775 \nL 103.044828 32.0175 \n\" style=\"fill:none;stroke:#cccccc;stroke-linecap:round;\"/>\n     </g>\n     <g id=\"text_1\">\n      <!-- 20 -->\n      <defs>\n       <path d=\"M 17.203125 6.703125 \nL 61.59375 6.703125 \nL 61.59375 0 \nL 10.203125 0 \nL 10.203125 3.203125 \nQ 10.203125 15.90625 21 26 \nQ 26.09375 29.59375 31.09375 33.1875 \nQ 36.09375 36.796875 41.203125 40.5 \nQ 52.09375 48.40625 52.09375 56.203125 \nQ 52.09375 62.40625 47.09375 65.90625 \nQ 44.796875 67.59375 42.09375 68.390625 \nQ 39.40625 69.203125 36.203125 69.203125 \nQ 31.5 69.203125 27.203125 68 \nQ 20.703125 66 13.796875 61.09375 \nL 13.796875 69.296875 \nQ 20.703125 72.796875 26.046875 74.34375 \nQ 31.40625 75.90625 36.203125 75.90625 \nQ 46.296875 75.90625 53.203125 70.703125 \nQ 60 65.59375 60 56.59375 \nQ 60 46.796875 49.5 38.09375 \nQ 44.5 34.59375 39.546875 31.25 \nQ 34.59375 27.90625 29.59375 24.40625 \nQ 18.40625 16 17.203125 6.703125 \nz\n\" id=\"AppleGothic-50\"/>\n       <path d=\"M 34.796875 -1.296875 \nQ 22.09375 -1.296875 14.59375 9 \nQ 7.203125 19.203125 7.203125 37.296875 \nQ 7.203125 55.5 15.203125 65.90625 \nQ 22.703125 75.90625 34.703125 75.90625 \nQ 47.296875 75.90625 54.40625 65.203125 \nQ 61.796875 54.59375 61.796875 37.40625 \nQ 61.796875 19.5 54.09375 9.09375 \nQ 46.5 -1.296875 34.796875 -1.296875 \nz\nM 34 5.40625 \nQ 44.703125 5.40625 50 15.5 \nQ 54.09375 24 54.09375 37.5 \nQ 54.09375 51.796875 49.40625 60.296875 \nQ 44.09375 69.203125 34.59375 69.203125 \nQ 24.59375 69.203125 19.5 59.703125 \nQ 15 51.296875 15 37.09375 \nQ 15 23.09375 19.5 14.703125 \nQ 24.59375 5.40625 34 5.40625 \nz\n\" id=\"AppleGothic-48\"/>\n      </defs>\n      <g style=\"fill:#262626;\" transform=\"translate(109.777171 397.5975)rotate(-90)scale(0.22 -0.22)\">\n       <use xlink:href=\"#AppleGothic-50\"/>\n       <use x=\"67.999985\" xlink:href=\"#AppleGothic-48\"/>\n      </g>\n     </g>\n    </g>\n    <g id=\"xtick_2\">\n     <g id=\"line2d_2\">\n      <path clip-path=\"url(#p924637c719)\" d=\"M 126.134483 358.1775 \nL 126.134483 32.0175 \n\" style=\"fill:none;stroke:#cccccc;stroke-linecap:round;\"/>\n     </g>\n     <g id=\"text_2\">\n      <!-- 0 -->\n      <g style=\"fill:#262626;\" transform=\"translate(132.866827 382.6375)rotate(-90)scale(0.22 -0.22)\">\n       <use xlink:href=\"#AppleGothic-48\"/>\n      </g>\n     </g>\n    </g>\n    <g id=\"xtick_3\">\n     <g id=\"line2d_3\">\n      <path clip-path=\"url(#p924637c719)\" d=\"M 149.224138 358.1775 \nL 149.224138 32.0175 \n\" style=\"fill:none;stroke:#cccccc;stroke-linecap:round;\"/>\n     </g>\n     <g id=\"text_3\">\n      <!-- 30 -->\n      <defs>\n       <path d=\"M 8.59375 5.203125 \nL 8.59375 13.59375 \nQ 13.796875 9.703125 19.296875 7.546875 \nQ 24.796875 5.40625 30.796875 5.40625 \nQ 39.40625 5.40625 44.703125 10.40625 \nQ 50.296875 15.5 50.296875 22.203125 \nQ 50.296875 29.203125 44.40625 32.796875 \nQ 39.296875 36 30.703125 36 \nL 15.5 36 \nL 15.5 42.203125 \nL 25.90625 42.203125 \nQ 35.90625 42.203125 41.59375 45.75 \nQ 47.296875 49.296875 47.296875 56 \nQ 47.296875 61.5 43 65.203125 \nQ 38.40625 69.203125 30.90625 69.203125 \nQ 27.90625 69.203125 24.953125 68.640625 \nQ 22 68.09375 19.09375 66.90625 \nQ 13.90625 64.703125 8.296875 60.5 \nL 8.296875 69.09375 \nQ 11.5 70.796875 14.25 72 \nQ 17 73.203125 19.59375 74 \nQ 25.40625 75.90625 31.59375 75.90625 \nQ 41.40625 75.90625 47.90625 70.796875 \nQ 54.5 65.796875 54.5 56.90625 \nQ 54.5 49.5 49.5 44.703125 \nQ 46.5 41.796875 41.296875 39.90625 \nQ 44.90625 39.40625 47.703125 38.25 \nQ 50.5 37.09375 52.59375 35.40625 \nQ 58.09375 30.796875 58.09375 22.40625 \nQ 58.09375 12.703125 50.296875 5.703125 \nQ 42.40625 -1.296875 30.703125 -1.296875 \nQ 24.203125 -1.296875 17.59375 1.09375 \nQ 16 1.59375 13.75 2.59375 \nQ 11.5 3.59375 8.59375 5.203125 \nz\n\" id=\"AppleGothic-51\"/>\n      </defs>\n      <g style=\"fill:#262626;\" transform=\"translate(155.956482 397.5975)rotate(-90)scale(0.22 -0.22)\">\n       <use xlink:href=\"#AppleGothic-51\"/>\n       <use x=\"67.999985\" xlink:href=\"#AppleGothic-48\"/>\n      </g>\n     </g>\n    </g>\n    <g id=\"xtick_4\">\n     <g id=\"line2d_4\">\n      <path clip-path=\"url(#p924637c719)\" d=\"M 172.313793 358.1775 \nL 172.313793 32.0175 \n\" style=\"fill:none;stroke:#cccccc;stroke-linecap:round;\"/>\n     </g>\n     <g id=\"text_4\">\n      <!-- 10 -->\n      <defs>\n       <path d=\"M 36.59375 74.59375 \nL 43 74.59375 \nL 43 0 \nL 35.703125 0 \nL 35.703125 55.09375 \nL 18.09375 55.09375 \nL 18.09375 60.703125 \nL 22.09375 60.703125 \nQ 31.09375 60.703125 34.59375 65.703125 \nQ 36.59375 68.90625 36.59375 74.59375 \nz\n\" id=\"AppleGothic-49\"/>\n      </defs>\n      <g style=\"fill:#262626;\" transform=\"translate(179.046137 397.5975)rotate(-90)scale(0.22 -0.22)\">\n       <use xlink:href=\"#AppleGothic-49\"/>\n       <use x=\"67.999985\" xlink:href=\"#AppleGothic-48\"/>\n      </g>\n     </g>\n    </g>\n    <g id=\"xtick_5\">\n     <g id=\"line2d_5\">\n      <path clip-path=\"url(#p924637c719)\" d=\"M 195.403448 358.1775 \nL 195.403448 32.0175 \n\" style=\"fill:none;stroke:#cccccc;stroke-linecap:round;\"/>\n     </g>\n     <g id=\"text_5\">\n      <!-- 15 -->\n      <defs>\n       <path d=\"M 9.703125 74.5 \nL 54.5 74.5 \nL 54.5 67.796875 \nL 17 67.796875 \nL 17 42.296875 \nQ 18.5 43.296875 20.203125 44.046875 \nQ 21.90625 44.796875 23.59375 45.5 \nQ 29.09375 47.5 35.296875 47.5 \nQ 46.703125 47.5 53.5 40.703125 \nQ 59.796875 34.40625 59.796875 24.703125 \nQ 59.796875 13.59375 51.5 6.203125 \nQ 43.203125 -1.296875 31.40625 -1.296875 \nQ 25.796875 -1.296875 19.5 0.703125 \nQ 18.09375 1.203125 15.640625 2.140625 \nQ 13.203125 3.09375 9.703125 4.703125 \nL 9.703125 13.09375 \nQ 14.5 10 18.796875 8.203125 \nQ 22 6.796875 25.203125 6.09375 \nQ 28.40625 5.40625 31.40625 5.40625 \nQ 39.5 5.40625 45.40625 10.40625 \nQ 51.90625 15.796875 51.90625 24 \nQ 51.90625 31.09375 47.203125 35.796875 \nQ 42.203125 40.796875 33.5 40.796875 \nQ 29 40.796875 24.796875 39.5 \nQ 20.59375 38.203125 17 35.5 \nL 9.703125 35.5 \nz\n\" id=\"AppleGothic-53\"/>\n      </defs>\n      <g style=\"fill:#262626;\" transform=\"translate(202.135792 397.5975)rotate(-90)scale(0.22 -0.22)\">\n       <use xlink:href=\"#AppleGothic-49\"/>\n       <use x=\"67.999985\" xlink:href=\"#AppleGothic-53\"/>\n      </g>\n     </g>\n    </g>\n    <g id=\"xtick_6\">\n     <g id=\"line2d_6\">\n      <path clip-path=\"url(#p924637c719)\" d=\"M 218.493103 358.1775 \nL 218.493103 32.0175 \n\" style=\"fill:none;stroke:#cccccc;stroke-linecap:round;\"/>\n     </g>\n     <g id=\"text_6\">\n      <!-- 16 -->\n      <defs>\n       <path d=\"M 57.796875 71.203125 \nL 57.796875 62.703125 \nQ 56 64.09375 54.296875 65.046875 \nQ 52.59375 66 50.90625 66.796875 \nQ 48.203125 68.09375 45.59375 68.640625 \nQ 43 69.203125 40.40625 69.203125 \nQ 38.59375 69.203125 36.75 68.890625 \nQ 34.90625 68.59375 33.09375 67.796875 \nQ 26.09375 64.90625 21.796875 58.40625 \nQ 15.796875 49.203125 15.796875 34.203125 \nQ 20.5 38.90625 24.5 41.5 \nQ 31.59375 45.796875 39.59375 45.796875 \nQ 49.40625 45.796875 56 40.09375 \nQ 63.09375 33.796875 63.09375 23.296875 \nQ 63.09375 12.59375 55.59375 5.59375 \nQ 48.09375 -1.296875 37.40625 -1.296875 \nQ 26.09375 -1.296875 17.90625 7.09375 \nQ 8.09375 17 8.09375 35.203125 \nQ 8.09375 53.296875 17.5 64.59375 \nQ 26.796875 75.90625 40.703125 75.90625 \nQ 45.90625 75.90625 50.40625 74.40625 \nQ 51.703125 73.90625 53.546875 73.15625 \nQ 55.40625 72.40625 57.796875 71.203125 \nz\nM 16.59375 26.59375 \nQ 18 18 23.40625 12 \nQ 29.40625 5.40625 37.796875 5.40625 \nQ 45.296875 5.40625 50.203125 10.296875 \nQ 55.296875 15.203125 55.296875 22.796875 \nQ 55.296875 30 50.40625 34.59375 \nQ 45.59375 39.09375 39 39.09375 \nQ 31.09375 39.09375 24.09375 34 \nQ 22.09375 32.5 20.1875 30.703125 \nQ 18.296875 28.90625 16.59375 26.59375 \nz\n\" id=\"AppleGothic-54\"/>\n      </defs>\n      <g style=\"fill:#262626;\" transform=\"translate(225.225447 397.5975)rotate(-90)scale(0.22 -0.22)\">\n       <use xlink:href=\"#AppleGothic-49\"/>\n       <use x=\"67.999985\" xlink:href=\"#AppleGothic-54\"/>\n      </g>\n     </g>\n    </g>\n    <g id=\"xtick_7\">\n     <g id=\"line2d_7\">\n      <path clip-path=\"url(#p924637c719)\" d=\"M 241.582759 358.1775 \nL 241.582759 32.0175 \n\" style=\"fill:none;stroke:#cccccc;stroke-linecap:round;\"/>\n     </g>\n     <g id=\"text_7\">\n      <!-- 17 -->\n      <defs>\n       <path d=\"M 9.296875 74.59375 \nL 59.40625 74.59375 \nL 59.40625 68.90625 \nL 27.09375 0 \nL 19.296875 0 \nL 51.203125 68 \nL 9.296875 68 \nz\n\" id=\"AppleGothic-55\"/>\n      </defs>\n      <g style=\"fill:#262626;\" transform=\"translate(248.315102 397.5975)rotate(-90)scale(0.22 -0.22)\">\n       <use xlink:href=\"#AppleGothic-49\"/>\n       <use x=\"67.999985\" xlink:href=\"#AppleGothic-55\"/>\n      </g>\n     </g>\n    </g>\n    <g id=\"xtick_8\">\n     <g id=\"line2d_8\">\n      <path clip-path=\"url(#p924637c719)\" d=\"M 264.672414 358.1775 \nL 264.672414 32.0175 \n\" style=\"fill:none;stroke:#cccccc;stroke-linecap:round;\"/>\n     </g>\n     <g id=\"text_8\">\n      <!-- 60 -->\n      <g style=\"fill:#262626;\" transform=\"translate(271.404758 397.5975)rotate(-90)scale(0.22 -0.22)\">\n       <use xlink:href=\"#AppleGothic-54\"/>\n       <use x=\"67.999985\" xlink:href=\"#AppleGothic-48\"/>\n      </g>\n     </g>\n    </g>\n    <g id=\"xtick_9\">\n     <g id=\"line2d_9\">\n      <path clip-path=\"url(#p924637c719)\" d=\"M 287.762069 358.1775 \nL 287.762069 32.0175 \n\" style=\"fill:none;stroke:#cccccc;stroke-linecap:round;\"/>\n     </g>\n     <g id=\"text_9\">\n      <!-- 13 -->\n      <g style=\"fill:#262626;\" transform=\"translate(294.494413 397.5975)rotate(-90)scale(0.22 -0.22)\">\n       <use xlink:href=\"#AppleGothic-49\"/>\n       <use x=\"67.999985\" xlink:href=\"#AppleGothic-51\"/>\n      </g>\n     </g>\n    </g>\n    <g id=\"xtick_10\">\n     <g id=\"line2d_10\">\n      <path clip-path=\"url(#p924637c719)\" d=\"M 310.851724 358.1775 \nL 310.851724 32.0175 \n\" style=\"fill:none;stroke:#cccccc;stroke-linecap:round;\"/>\n     </g>\n     <g id=\"text_10\">\n      <!-- 14 -->\n      <defs>\n       <path d=\"M 41.59375 74.59375 \nL 48.90625 74.59375 \nL 48.90625 28.296875 \nL 62.5 28.296875 \nL 62.5 21.59375 \nL 48.90625 21.59375 \nL 48.90625 0 \nL 41.59375 0 \nL 41.59375 21.59375 \nL 5.5 21.59375 \nL 5.5 28.296875 \nz\nM 41.59375 28.296875 \nL 41.59375 65.09375 \nL 13.09375 28.296875 \nz\n\" id=\"AppleGothic-52\"/>\n      </defs>\n      <g style=\"fill:#262626;\" transform=\"translate(317.584068 397.5975)rotate(-90)scale(0.22 -0.22)\">\n       <use xlink:href=\"#AppleGothic-49\"/>\n       <use x=\"67.999985\" xlink:href=\"#AppleGothic-52\"/>\n      </g>\n     </g>\n    </g>\n    <g id=\"xtick_11\">\n     <g id=\"line2d_11\">\n      <path clip-path=\"url(#p924637c719)\" d=\"M 333.941379 358.1775 \nL 333.941379 32.0175 \n\" style=\"fill:none;stroke:#cccccc;stroke-linecap:round;\"/>\n     </g>\n     <g id=\"text_11\">\n      <!-- 25 -->\n      <g style=\"fill:#262626;\" transform=\"translate(340.673723 397.5975)rotate(-90)scale(0.22 -0.22)\">\n       <use xlink:href=\"#AppleGothic-50\"/>\n       <use x=\"67.999985\" xlink:href=\"#AppleGothic-53\"/>\n      </g>\n     </g>\n    </g>\n    <g id=\"xtick_12\">\n     <g id=\"line2d_12\">\n      <path clip-path=\"url(#p924637c719)\" d=\"M 357.031034 358.1775 \nL 357.031034 32.0175 \n\" style=\"fill:none;stroke:#cccccc;stroke-linecap:round;\"/>\n     </g>\n     <g id=\"text_12\">\n      <!-- 26 -->\n      <g style=\"fill:#262626;\" transform=\"translate(363.763378 397.5975)rotate(-90)scale(0.22 -0.22)\">\n       <use xlink:href=\"#AppleGothic-50\"/>\n       <use x=\"67.999985\" xlink:href=\"#AppleGothic-54\"/>\n      </g>\n     </g>\n    </g>\n    <g id=\"xtick_13\">\n     <g id=\"line2d_13\">\n      <path clip-path=\"url(#p924637c719)\" d=\"M 380.12069 358.1775 \nL 380.12069 32.0175 \n\" style=\"fill:none;stroke:#cccccc;stroke-linecap:round;\"/>\n     </g>\n     <g id=\"text_13\">\n      <!-- 12 -->\n      <g style=\"fill:#262626;\" transform=\"translate(386.853033 397.5975)rotate(-90)scale(0.22 -0.22)\">\n       <use xlink:href=\"#AppleGothic-49\"/>\n       <use x=\"67.999985\" xlink:href=\"#AppleGothic-50\"/>\n      </g>\n     </g>\n    </g>\n    <g id=\"xtick_14\">\n     <g id=\"line2d_14\">\n      <path clip-path=\"url(#p924637c719)\" d=\"M 403.210345 358.1775 \nL 403.210345 32.0175 \n\" style=\"fill:none;stroke:#cccccc;stroke-linecap:round;\"/>\n     </g>\n     <g id=\"text_14\">\n      <!-- 3 -->\n      <g style=\"fill:#262626;\" transform=\"translate(409.942689 382.6375)rotate(-90)scale(0.22 -0.22)\">\n       <use xlink:href=\"#AppleGothic-51\"/>\n      </g>\n     </g>\n    </g>\n    <g id=\"xtick_15\">\n     <g id=\"line2d_15\">\n      <path clip-path=\"url(#p924637c719)\" d=\"M 426.3 358.1775 \nL 426.3 32.0175 \n\" style=\"fill:none;stroke:#cccccc;stroke-linecap:round;\"/>\n     </g>\n     <g id=\"text_15\">\n      <!-- 23 -->\n      <g style=\"fill:#262626;\" transform=\"translate(433.032344 397.5975)rotate(-90)scale(0.22 -0.22)\">\n       <use xlink:href=\"#AppleGothic-50\"/>\n       <use x=\"67.999985\" xlink:href=\"#AppleGothic-51\"/>\n      </g>\n     </g>\n    </g>\n    <g id=\"xtick_16\">\n     <g id=\"line2d_16\">\n      <path clip-path=\"url(#p924637c719)\" d=\"M 449.389655 358.1775 \nL 449.389655 32.0175 \n\" style=\"fill:none;stroke:#cccccc;stroke-linecap:round;\"/>\n     </g>\n     <g id=\"text_16\">\n      <!-- 5 -->\n      <g style=\"fill:#262626;\" transform=\"translate(456.121999 382.6375)rotate(-90)scale(0.22 -0.22)\">\n       <use xlink:href=\"#AppleGothic-53\"/>\n      </g>\n     </g>\n    </g>\n    <g id=\"xtick_17\">\n     <g id=\"line2d_17\">\n      <path clip-path=\"url(#p924637c719)\" d=\"M 472.47931 358.1775 \nL 472.47931 32.0175 \n\" style=\"fill:none;stroke:#cccccc;stroke-linecap:round;\"/>\n     </g>\n     <g id=\"text_17\">\n      <!-- 6 -->\n      <g style=\"fill:#262626;\" transform=\"translate(479.211654 382.6375)rotate(-90)scale(0.22 -0.22)\">\n       <use xlink:href=\"#AppleGothic-54\"/>\n      </g>\n     </g>\n    </g>\n    <g id=\"xtick_18\">\n     <g id=\"line2d_18\">\n      <path clip-path=\"url(#p924637c719)\" d=\"M 495.568966 358.1775 \nL 495.568966 32.0175 \n\" style=\"fill:none;stroke:#cccccc;stroke-linecap:round;\"/>\n     </g>\n     <g id=\"text_18\">\n      <!-- 11 -->\n      <g style=\"fill:#262626;\" transform=\"translate(502.301309 397.5975)rotate(-90)scale(0.22 -0.22)\">\n       <use xlink:href=\"#AppleGothic-49\"/>\n       <use x=\"67.999985\" xlink:href=\"#AppleGothic-49\"/>\n      </g>\n     </g>\n    </g>\n    <g id=\"xtick_19\">\n     <g id=\"line2d_19\">\n      <path clip-path=\"url(#p924637c719)\" d=\"M 518.658621 358.1775 \nL 518.658621 32.0175 \n\" style=\"fill:none;stroke:#cccccc;stroke-linecap:round;\"/>\n     </g>\n     <g id=\"text_19\">\n      <!-- 22 -->\n      <g style=\"fill:#262626;\" transform=\"translate(525.390964 397.5975)rotate(-90)scale(0.22 -0.22)\">\n       <use xlink:href=\"#AppleGothic-50\"/>\n       <use x=\"67.999985\" xlink:href=\"#AppleGothic-50\"/>\n      </g>\n     </g>\n    </g>\n    <g id=\"xtick_20\">\n     <g id=\"line2d_20\">\n      <path clip-path=\"url(#p924637c719)\" d=\"M 541.748276 358.1775 \nL 541.748276 32.0175 \n\" style=\"fill:none;stroke:#cccccc;stroke-linecap:round;\"/>\n     </g>\n     <g id=\"text_20\">\n      <!-- 18 -->\n      <defs>\n       <path d=\"M 46.203125 40.703125 \nQ 50.296875 39.5 53.1875 38.203125 \nQ 56.09375 36.90625 57.90625 35.5 \nQ 65.5 30.09375 65.5 21.40625 \nQ 65.5 11.703125 56.90625 5.203125 \nQ 48.40625 -1.296875 35.703125 -1.296875 \nQ 22.40625 -1.296875 14.796875 5.09375 \nQ 8 10.796875 8 19.203125 \nQ 8 28.09375 15.59375 33.203125 \nQ 17.90625 34.796875 20.953125 36 \nQ 24 37.203125 27.796875 38.296875 \nQ 24.59375 39.59375 22.34375 40.890625 \nQ 20.09375 42.203125 18.703125 43.5 \nQ 12.796875 48.5 12.796875 56.296875 \nQ 12.796875 65.203125 19.703125 70.5 \nQ 26.59375 75.90625 37.203125 75.90625 \nQ 47.09375 75.90625 53.703125 71.40625 \nQ 60.90625 66.59375 60.90625 58.40625 \nQ 60.90625 52.703125 57.34375 48.140625 \nQ 53.796875 43.59375 46.203125 40.703125 \nz\nM 37.59375 43 \nQ 41 44.296875 43.453125 45.546875 \nQ 45.90625 46.796875 47.5 47.90625 \nQ 53.09375 51.90625 53.09375 57.296875 \nQ 53.09375 62.40625 48.5 65.703125 \nQ 44.09375 69.203125 36.90625 69.203125 \nQ 29.59375 69.203125 25.203125 65.703125 \nQ 20.703125 62.40625 20.703125 56.796875 \nQ 20.703125 51.90625 24.703125 48.40625 \nQ 26.5 46.90625 29.703125 45.5 \nQ 32.90625 44.09375 37.59375 43 \nz\nM 37 36 \nQ 32.203125 34.40625 28.75 32.90625 \nQ 25.296875 31.40625 23 30 \nQ 15.796875 25.40625 15.796875 19.296875 \nQ 15.796875 13.203125 21.5 9.296875 \nQ 27 5.40625 36.09375 5.40625 \nQ 45.90625 5.40625 51.796875 10 \nQ 57.703125 14.59375 57.703125 20.90625 \nQ 57.703125 27.203125 50.59375 31.203125 \nQ 48.5 32.296875 45.09375 33.546875 \nQ 41.703125 34.796875 37 36 \nz\n\" id=\"AppleGothic-56\"/>\n      </defs>\n      <g style=\"fill:#262626;\" transform=\"translate(548.48062 397.5975)rotate(-90)scale(0.22 -0.22)\">\n       <use xlink:href=\"#AppleGothic-49\"/>\n       <use x=\"67.999985\" xlink:href=\"#AppleGothic-56\"/>\n      </g>\n     </g>\n    </g>\n    <g id=\"xtick_21\">\n     <g id=\"line2d_21\">\n      <path clip-path=\"url(#p924637c719)\" d=\"M 564.837931 358.1775 \nL 564.837931 32.0175 \n\" style=\"fill:none;stroke:#cccccc;stroke-linecap:round;\"/>\n     </g>\n     <g id=\"text_21\">\n      <!-- 19 -->\n      <defs>\n       <path d=\"M 14.5 3.296875 \nL 14.5 11.90625 \nQ 16.40625 10.5 18.046875 9.390625 \nQ 19.703125 8.296875 21.296875 7.5 \nQ 26.59375 5 31.5 5 \nQ 35.796875 5 39.703125 6.796875 \nQ 42.796875 8.203125 45.4375 10.546875 \nQ 48.09375 12.90625 50.203125 16.203125 \nQ 54 22 55.5 28.796875 \nQ 56.5 33.5 56.5 40.203125 \nQ 51.796875 35.5 47.90625 33.203125 \nQ 40.703125 28.90625 32.703125 28.90625 \nQ 22.796875 28.90625 16.203125 34.59375 \nQ 9.203125 40.59375 9.203125 51.09375 \nQ 9.203125 62.296875 16.90625 69 \nQ 24.203125 75.5 34.90625 75.5 \nQ 46.40625 75.5 54.59375 67.203125 \nQ 64.40625 57.203125 64.40625 39.5 \nQ 64.40625 20.703125 54.296875 9.09375 \nQ 44.90625 -1.703125 31.796875 -1.703125 \nQ 26.90625 -1.703125 21.203125 0.296875 \nQ 19.59375 0.796875 17.9375 1.59375 \nQ 16.296875 2.40625 14.5 3.296875 \nz\nM 55.90625 47.90625 \nQ 54.09375 58.09375 47.703125 63.703125 \nQ 41.796875 68.796875 34.796875 68.796875 \nQ 26.796875 68.796875 21.90625 63.796875 \nQ 16.90625 58.59375 16.90625 51.59375 \nQ 16.90625 44.703125 21.40625 40.09375 \nQ 25.90625 35.59375 33.203125 35.59375 \nQ 40.203125 35.59375 45.546875 38.640625 \nQ 50.90625 41.703125 55.90625 47.90625 \nz\n\" id=\"AppleGothic-57\"/>\n      </defs>\n      <g style=\"fill:#262626;\" transform=\"translate(571.570275 397.5975)rotate(-90)scale(0.22 -0.22)\">\n       <use xlink:href=\"#AppleGothic-49\"/>\n       <use x=\"67.999985\" xlink:href=\"#AppleGothic-57\"/>\n      </g>\n     </g>\n    </g>\n    <g id=\"xtick_22\">\n     <g id=\"line2d_22\">\n      <path clip-path=\"url(#p924637c719)\" d=\"M 587.927586 358.1775 \nL 587.927586 32.0175 \n\" style=\"fill:none;stroke:#cccccc;stroke-linecap:round;\"/>\n     </g>\n     <g id=\"text_22\">\n      <!-- 2 -->\n      <g style=\"fill:#262626;\" transform=\"translate(594.65993 382.6375)rotate(-90)scale(0.22 -0.22)\">\n       <use xlink:href=\"#AppleGothic-50\"/>\n      </g>\n     </g>\n    </g>\n    <g id=\"xtick_23\">\n     <g id=\"line2d_23\">\n      <path clip-path=\"url(#p924637c719)\" d=\"M 611.017241 358.1775 \nL 611.017241 32.0175 \n\" style=\"fill:none;stroke:#cccccc;stroke-linecap:round;\"/>\n     </g>\n     <g id=\"text_23\">\n      <!-- 9 -->\n      <g style=\"fill:#262626;\" transform=\"translate(617.749585 382.6375)rotate(-90)scale(0.22 -0.22)\">\n       <use xlink:href=\"#AppleGothic-57\"/>\n      </g>\n     </g>\n    </g>\n    <g id=\"xtick_24\">\n     <g id=\"line2d_24\">\n      <path clip-path=\"url(#p924637c719)\" d=\"M 634.106897 358.1775 \nL 634.106897 32.0175 \n\" style=\"fill:none;stroke:#cccccc;stroke-linecap:round;\"/>\n     </g>\n     <g id=\"text_24\">\n      <!-- 40 -->\n      <g style=\"fill:#262626;\" transform=\"translate(640.83924 397.5975)rotate(-90)scale(0.22 -0.22)\">\n       <use xlink:href=\"#AppleGothic-52\"/>\n       <use x=\"67.999985\" xlink:href=\"#AppleGothic-48\"/>\n      </g>\n     </g>\n    </g>\n    <g id=\"xtick_25\">\n     <g id=\"line2d_25\">\n      <path clip-path=\"url(#p924637c719)\" d=\"M 657.196552 358.1775 \nL 657.196552 32.0175 \n\" style=\"fill:none;stroke:#cccccc;stroke-linecap:round;\"/>\n     </g>\n     <g id=\"text_25\">\n      <!-- 8 -->\n      <g style=\"fill:#262626;\" transform=\"translate(663.928895 382.6375)rotate(-90)scale(0.22 -0.22)\">\n       <use xlink:href=\"#AppleGothic-56\"/>\n      </g>\n     </g>\n    </g>\n    <g id=\"xtick_26\">\n     <g id=\"line2d_26\">\n      <path clip-path=\"url(#p924637c719)\" d=\"M 680.286207 358.1775 \nL 680.286207 32.0175 \n\" style=\"fill:none;stroke:#cccccc;stroke-linecap:round;\"/>\n     </g>\n     <g id=\"text_26\">\n      <!-- 7 -->\n      <g style=\"fill:#262626;\" transform=\"translate(687.018551 382.6375)rotate(-90)scale(0.22 -0.22)\">\n       <use xlink:href=\"#AppleGothic-55\"/>\n      </g>\n     </g>\n    </g>\n    <g id=\"xtick_27\">\n     <g id=\"line2d_27\">\n      <path clip-path=\"url(#p924637c719)\" d=\"M 703.375862 358.1775 \nL 703.375862 32.0175 \n\" style=\"fill:none;stroke:#cccccc;stroke-linecap:round;\"/>\n     </g>\n     <g id=\"text_27\">\n      <!-- 29 -->\n      <g style=\"fill:#262626;\" transform=\"translate(710.108206 397.5975)rotate(-90)scale(0.22 -0.22)\">\n       <use xlink:href=\"#AppleGothic-50\"/>\n       <use x=\"67.999985\" xlink:href=\"#AppleGothic-57\"/>\n      </g>\n     </g>\n    </g>\n    <g id=\"xtick_28\">\n     <g id=\"line2d_28\">\n      <path clip-path=\"url(#p924637c719)\" d=\"M 726.465517 358.1775 \nL 726.465517 32.0175 \n\" style=\"fill:none;stroke:#cccccc;stroke-linecap:round;\"/>\n     </g>\n     <g id=\"text_28\">\n      <!-- 24 -->\n      <g style=\"fill:#262626;\" transform=\"translate(733.197861 397.5975)rotate(-90)scale(0.22 -0.22)\">\n       <use xlink:href=\"#AppleGothic-50\"/>\n       <use x=\"67.999985\" xlink:href=\"#AppleGothic-52\"/>\n      </g>\n     </g>\n    </g>\n    <g id=\"xtick_29\">\n     <g id=\"line2d_29\">\n      <path clip-path=\"url(#p924637c719)\" d=\"M 749.555172 358.1775 \nL 749.555172 32.0175 \n\" style=\"fill:none;stroke:#cccccc;stroke-linecap:round;\"/>\n     </g>\n     <g id=\"text_29\">\n      <!-- 27 -->\n      <g style=\"fill:#262626;\" transform=\"translate(756.287516 397.5975)rotate(-90)scale(0.22 -0.22)\">\n       <use xlink:href=\"#AppleGothic-50\"/>\n       <use x=\"67.999985\" xlink:href=\"#AppleGothic-55\"/>\n      </g>\n     </g>\n    </g>\n   </g>\n   <g id=\"matplotlib.axis_2\">\n    <g id=\"ytick_1\">\n     <g id=\"line2d_30\">\n      <path clip-path=\"url(#p924637c719)\" d=\"M 91.5 358.1775 \nL 761.1 358.1775 \n\" style=\"fill:none;stroke:#cccccc;stroke-linecap:round;\"/>\n     </g>\n     <g id=\"text_30\">\n      <!-- 0 -->\n      <g style=\"fill:#262626;\" transform=\"translate(67.04 366.802188)scale(0.22 -0.22)\">\n       <use xlink:href=\"#AppleGothic-48\"/>\n      </g>\n     </g>\n    </g>\n    <g id=\"ytick_2\">\n     <g id=\"line2d_31\">\n      <path clip-path=\"url(#p924637c719)\" d=\"M 91.5 276.694742 \nL 761.1 276.694742 \n\" style=\"fill:none;stroke:#cccccc;stroke-linecap:round;\"/>\n     </g>\n     <g id=\"text_31\">\n      <!-- 5000 -->\n      <g style=\"fill:#262626;\" transform=\"translate(22.16 285.319429)scale(0.22 -0.22)\">\n       <use xlink:href=\"#AppleGothic-53\"/>\n       <use x=\"67.999985\" xlink:href=\"#AppleGothic-48\"/>\n       <use x=\"135.999969\" xlink:href=\"#AppleGothic-48\"/>\n       <use x=\"203.999954\" xlink:href=\"#AppleGothic-48\"/>\n      </g>\n     </g>\n    </g>\n    <g id=\"ytick_3\">\n     <g id=\"line2d_32\">\n      <path clip-path=\"url(#p924637c719)\" d=\"M 91.5 195.211983 \nL 761.1 195.211983 \n\" style=\"fill:none;stroke:#cccccc;stroke-linecap:round;\"/>\n     </g>\n     <g id=\"text_32\">\n      <!-- 10000 -->\n      <g style=\"fill:#262626;\" transform=\"translate(7.2 203.836671)scale(0.22 -0.22)\">\n       <use xlink:href=\"#AppleGothic-49\"/>\n       <use x=\"67.999985\" xlink:href=\"#AppleGothic-48\"/>\n       <use x=\"135.999969\" xlink:href=\"#AppleGothic-48\"/>\n       <use x=\"203.999954\" xlink:href=\"#AppleGothic-48\"/>\n       <use x=\"271.999939\" xlink:href=\"#AppleGothic-48\"/>\n      </g>\n     </g>\n    </g>\n    <g id=\"ytick_4\">\n     <g id=\"line2d_33\">\n      <path clip-path=\"url(#p924637c719)\" d=\"M 91.5 113.729225 \nL 761.1 113.729225 \n\" style=\"fill:none;stroke:#cccccc;stroke-linecap:round;\"/>\n     </g>\n     <g id=\"text_33\">\n      <!-- 15000 -->\n      <g style=\"fill:#262626;\" transform=\"translate(7.2 122.353912)scale(0.22 -0.22)\">\n       <use xlink:href=\"#AppleGothic-49\"/>\n       <use x=\"67.999985\" xlink:href=\"#AppleGothic-53\"/>\n       <use x=\"135.999969\" xlink:href=\"#AppleGothic-48\"/>\n       <use x=\"203.999954\" xlink:href=\"#AppleGothic-48\"/>\n       <use x=\"271.999939\" xlink:href=\"#AppleGothic-48\"/>\n      </g>\n     </g>\n    </g>\n    <g id=\"ytick_5\">\n     <g id=\"line2d_34\">\n      <path clip-path=\"url(#p924637c719)\" d=\"M 91.5 32.246467 \nL 761.1 32.246467 \n\" style=\"fill:none;stroke:#cccccc;stroke-linecap:round;\"/>\n     </g>\n     <g id=\"text_34\">\n      <!-- 20000 -->\n      <g style=\"fill:#262626;\" transform=\"translate(7.2 40.871154)scale(0.22 -0.22)\">\n       <use xlink:href=\"#AppleGothic-50\"/>\n       <use x=\"67.999985\" xlink:href=\"#AppleGothic-48\"/>\n       <use x=\"135.999969\" xlink:href=\"#AppleGothic-48\"/>\n       <use x=\"203.999954\" xlink:href=\"#AppleGothic-48\"/>\n       <use x=\"271.999939\" xlink:href=\"#AppleGothic-48\"/>\n      </g>\n     </g>\n    </g>\n   </g>\n   <g id=\"patch_3\">\n    <path clip-path=\"url(#p924637c719)\" d=\"M 97.272414 358.1775 \nL 108.817241 358.1775 \nL 108.817241 47.548929 \nL 97.272414 47.548929 \nz\n\" style=\"fill:#0173b2;stroke:#ffffff;stroke-linejoin:miter;\"/>\n   </g>\n   <g id=\"patch_4\">\n    <path clip-path=\"url(#p924637c719)\" d=\"M 120.362069 358.1775 \nL 131.906897 358.1775 \nL 131.906897 84.656177 \nL 120.362069 84.656177 \nz\n\" style=\"fill:#0173b2;stroke:#ffffff;stroke-linejoin:miter;\"/>\n   </g>\n   <g id=\"patch_5\">\n    <path clip-path=\"url(#p924637c719)\" d=\"M 143.451724 358.1775 \nL 154.996552 358.1775 \nL 154.996552 339.22461 \nL 143.451724 339.22461 \nz\n\" style=\"fill:#0173b2;stroke:#ffffff;stroke-linejoin:miter;\"/>\n   </g>\n   <g id=\"patch_6\">\n    <path clip-path=\"url(#p924637c719)\" d=\"M 166.541379 358.1775 \nL 178.086207 358.1775 \nL 178.086207 345.743231 \nL 166.541379 345.743231 \nz\n\" style=\"fill:#0173b2;stroke:#ffffff;stroke-linejoin:miter;\"/>\n   </g>\n   <g id=\"patch_7\">\n    <path clip-path=\"url(#p924637c719)\" d=\"M 189.631034 358.1775 \nL 201.175862 358.1775 \nL 201.175862 355.097452 \nL 189.631034 355.097452 \nz\n\" style=\"fill:#0173b2;stroke:#ffffff;stroke-linejoin:miter;\"/>\n   </g>\n   <g id=\"patch_8\">\n    <path clip-path=\"url(#p924637c719)\" d=\"M 212.72069 358.1775 \nL 224.265517 358.1775 \nL 224.265517 356.189321 \nL 212.72069 356.189321 \nz\n\" style=\"fill:#0173b2;stroke:#ffffff;stroke-linejoin:miter;\"/>\n   </g>\n   <g id=\"patch_9\">\n    <path clip-path=\"url(#p924637c719)\" d=\"M 235.810345 358.1775 \nL 247.355172 358.1775 \nL 247.355172 357.18341 \nL 235.810345 357.18341 \nz\n\" style=\"fill:#0173b2;stroke:#ffffff;stroke-linejoin:miter;\"/>\n   </g>\n   <g id=\"patch_10\">\n    <path clip-path=\"url(#p924637c719)\" d=\"M 258.9 358.1775 \nL 270.444828 358.1775 \nL 270.444828 357.395266 \nL 258.9 357.395266 \nz\n\" style=\"fill:#0173b2;stroke:#ffffff;stroke-linejoin:miter;\"/>\n   </g>\n   <g id=\"patch_11\">\n    <path clip-path=\"url(#p924637c719)\" d=\"M 281.989655 358.1775 \nL 293.534483 358.1775 \nL 293.534483 357.395266 \nL 281.989655 357.395266 \nz\n\" style=\"fill:#0173b2;stroke:#ffffff;stroke-linejoin:miter;\"/>\n   </g>\n   <g id=\"patch_12\">\n    <path clip-path=\"url(#p924637c719)\" d=\"M 305.07931 358.1775 \nL 316.624138 358.1775 \nL 316.624138 357.981941 \nL 305.07931 357.981941 \nz\n\" style=\"fill:#0173b2;stroke:#ffffff;stroke-linejoin:miter;\"/>\n   </g>\n   <g id=\"patch_13\">\n    <path clip-path=\"url(#p924637c719)\" d=\"M 328.168966 358.1775 \nL 339.713793 358.1775 \nL 339.713793 358.079721 \nL 328.168966 358.079721 \nz\n\" style=\"fill:#0173b2;stroke:#ffffff;stroke-linejoin:miter;\"/>\n   </g>\n   <g id=\"patch_14\">\n    <path clip-path=\"url(#p924637c719)\" d=\"M 351.258621 358.1775 \nL 362.803448 358.1775 \nL 362.803448 358.079721 \nL 351.258621 358.079721 \nz\n\" style=\"fill:#0173b2;stroke:#ffffff;stroke-linejoin:miter;\"/>\n   </g>\n   <g id=\"patch_15\">\n    <path clip-path=\"url(#p924637c719)\" d=\"M 374.348276 358.1775 \nL 385.893103 358.1775 \nL 385.893103 358.079721 \nL 374.348276 358.079721 \nz\n\" style=\"fill:#0173b2;stroke:#ffffff;stroke-linejoin:miter;\"/>\n   </g>\n   <g id=\"patch_16\">\n    <path clip-path=\"url(#p924637c719)\" d=\"M 397.437931 358.1775 \nL 408.982759 358.1775 \nL 408.982759 358.096017 \nL 397.437931 358.096017 \nz\n\" style=\"fill:#0173b2;stroke:#ffffff;stroke-linejoin:miter;\"/>\n   </g>\n   <g id=\"patch_17\">\n    <path clip-path=\"url(#p924637c719)\" d=\"M 420.527586 358.1775 \nL 432.072414 358.1775 \nL 432.072414 358.096017 \nL 420.527586 358.096017 \nz\n\" style=\"fill:#0173b2;stroke:#ffffff;stroke-linejoin:miter;\"/>\n   </g>\n   <g id=\"patch_18\">\n    <path clip-path=\"url(#p924637c719)\" d=\"M 443.617241 358.1775 \nL 455.162069 358.1775 \nL 455.162069 358.096017 \nL 443.617241 358.096017 \nz\n\" style=\"fill:#0173b2;stroke:#ffffff;stroke-linejoin:miter;\"/>\n   </g>\n   <g id=\"patch_19\">\n    <path clip-path=\"url(#p924637c719)\" d=\"M 466.706897 358.1775 \nL 478.251724 358.1775 \nL 478.251724 358.096017 \nL 466.706897 358.096017 \nz\n\" style=\"fill:#0173b2;stroke:#ffffff;stroke-linejoin:miter;\"/>\n   </g>\n   <g id=\"patch_20\">\n    <path clip-path=\"url(#p924637c719)\" d=\"M 489.796552 358.1775 \nL 501.341379 358.1775 \nL 501.341379 358.12861 \nL 489.796552 358.12861 \nz\n\" style=\"fill:#0173b2;stroke:#ffffff;stroke-linejoin:miter;\"/>\n   </g>\n   <g id=\"patch_21\">\n    <path clip-path=\"url(#p924637c719)\" d=\"M 512.886207 358.1775 \nL 524.431034 358.1775 \nL 524.431034 358.12861 \nL 512.886207 358.12861 \nz\n\" style=\"fill:#0173b2;stroke:#ffffff;stroke-linejoin:miter;\"/>\n   </g>\n   <g id=\"patch_22\">\n    <path clip-path=\"url(#p924637c719)\" d=\"M 535.975862 358.1775 \nL 547.52069 358.1775 \nL 547.52069 358.12861 \nL 535.975862 358.12861 \nz\n\" style=\"fill:#0173b2;stroke:#ffffff;stroke-linejoin:miter;\"/>\n   </g>\n   <g id=\"patch_23\">\n    <path clip-path=\"url(#p924637c719)\" d=\"M 559.065517 358.1775 \nL 570.610345 358.1775 \nL 570.610345 358.144907 \nL 559.065517 358.144907 \nz\n\" style=\"fill:#0173b2;stroke:#ffffff;stroke-linejoin:miter;\"/>\n   </g>\n   <g id=\"patch_24\">\n    <path clip-path=\"url(#p924637c719)\" d=\"M 582.155172 358.1775 \nL 593.7 358.1775 \nL 593.7 358.144907 \nL 582.155172 358.144907 \nz\n\" style=\"fill:#0173b2;stroke:#ffffff;stroke-linejoin:miter;\"/>\n   </g>\n   <g id=\"patch_25\">\n    <path clip-path=\"url(#p924637c719)\" d=\"M 605.244828 358.1775 \nL 616.789655 358.1775 \nL 616.789655 358.161203 \nL 605.244828 358.161203 \nz\n\" style=\"fill:#0173b2;stroke:#ffffff;stroke-linejoin:miter;\"/>\n   </g>\n   <g id=\"patch_26\">\n    <path clip-path=\"url(#p924637c719)\" d=\"M 628.334483 358.1775 \nL 639.87931 358.1775 \nL 639.87931 358.161203 \nL 628.334483 358.161203 \nz\n\" style=\"fill:#0173b2;stroke:#ffffff;stroke-linejoin:miter;\"/>\n   </g>\n   <g id=\"patch_27\">\n    <path clip-path=\"url(#p924637c719)\" d=\"M 651.424138 358.1775 \nL 662.968966 358.1775 \nL 662.968966 358.161203 \nL 651.424138 358.161203 \nz\n\" style=\"fill:#0173b2;stroke:#ffffff;stroke-linejoin:miter;\"/>\n   </g>\n   <g id=\"patch_28\">\n    <path clip-path=\"url(#p924637c719)\" d=\"M 674.513793 358.1775 \nL 686.058621 358.1775 \nL 686.058621 358.161203 \nL 674.513793 358.161203 \nz\n\" style=\"fill:#0173b2;stroke:#ffffff;stroke-linejoin:miter;\"/>\n   </g>\n   <g id=\"patch_29\">\n    <path clip-path=\"url(#p924637c719)\" d=\"M 697.603448 358.1775 \nL 709.148276 358.1775 \nL 709.148276 358.161203 \nL 697.603448 358.161203 \nz\n\" style=\"fill:#0173b2;stroke:#ffffff;stroke-linejoin:miter;\"/>\n   </g>\n   <g id=\"patch_30\">\n    <path clip-path=\"url(#p924637c719)\" d=\"M 720.693103 358.1775 \nL 732.237931 358.1775 \nL 732.237931 358.161203 \nL 720.693103 358.161203 \nz\n\" style=\"fill:#0173b2;stroke:#ffffff;stroke-linejoin:miter;\"/>\n   </g>\n   <g id=\"patch_31\">\n    <path clip-path=\"url(#p924637c719)\" d=\"M 743.782759 358.1775 \nL 755.327586 358.1775 \nL 755.327586 358.161203 \nL 743.782759 358.161203 \nz\n\" style=\"fill:#0173b2;stroke:#ffffff;stroke-linejoin:miter;\"/>\n   </g>\n   <g id=\"patch_32\">\n    <path d=\"M 91.5 358.1775 \nL 91.5 32.0175 \n\" style=\"fill:none;stroke:#cccccc;stroke-linecap:square;stroke-linejoin:miter;stroke-width:1.25;\"/>\n   </g>\n   <g id=\"patch_33\">\n    <path d=\"M 761.1 358.1775 \nL 761.1 32.0175 \n\" style=\"fill:none;stroke:#cccccc;stroke-linecap:square;stroke-linejoin:miter;stroke-width:1.25;\"/>\n   </g>\n   <g id=\"patch_34\">\n    <path d=\"M 91.5 358.1775 \nL 761.1 358.1775 \n\" style=\"fill:none;stroke:#cccccc;stroke-linecap:square;stroke-linejoin:miter;stroke-width:1.25;\"/>\n   </g>\n   <g id=\"patch_35\">\n    <path d=\"M 91.5 32.0175 \nL 761.1 32.0175 \n\" style=\"fill:none;stroke:#cccccc;stroke-linecap:square;stroke-linejoin:miter;stroke-width:1.25;\"/>\n   </g>\n   <g id=\"text_35\">\n    <!-- 노출(분) counts -->\n    <defs>\n     <path d=\"M 94.40625 4 \nQ 94.09375 4 92.4375 4.046875 \nQ 90.796875 4.09375 87.796875 4.203125 \nQ 84.796875 4.296875 79.890625 4.390625 \nQ 75 4.5 68.40625 4.59375 \nQ 55 4.90625 50.703125 4.90625 \nQ 44.40625 4.90625 37.203125 4.796875 \nQ 30 4.703125 21.59375 4.5 \nQ 18.59375 4.40625 14.640625 4.296875 \nQ 10.703125 4.203125 5.703125 4 \nL 5.703125 11.09375 \nQ 10.5 10.796875 16.296875 10.59375 \nQ 22.09375 10.40625 27.5 10.40625 \nL 46.296875 10.5 \nL 46.59375 24.90625 \nL 46.40625 36.796875 \nQ 43.5 37 39.953125 37.09375 \nQ 36.40625 37.203125 33.203125 37.203125 \nQ 29.703125 37.203125 25.953125 37.09375 \nQ 22.203125 37 19 36.796875 \nL 19.203125 53.40625 \nQ 19.203125 60.296875 19.046875 65.390625 \nQ 18.90625 70.5 18.796875 73.703125 \nL 25.09375 73.09375 \nQ 26.90625 72.59375 26.90625 71.796875 \nQ 26.90625 71.5 26.5 70.203125 \nQ 26.09375 68.90625 26.09375 67.796875 \nL 26.09375 43.203125 \nL 50.296875 42.90625 \nL 53 42.90625 \nQ 61.296875 42.90625 69.5 43 \nQ 77.703125 43.09375 84.5 43.296875 \nL 84.5 36.40625 \nQ 81 36.59375 77 36.6875 \nQ 73 36.796875 69.203125 36.796875 \nL 53.59375 36.796875 \nL 53.40625 24.296875 \nL 53.59375 10.40625 \nL 75 10.296875 \nQ 79.796875 10.296875 84.890625 10.5 \nQ 90 10.703125 94.40625 11 \nz\n\" id=\"AppleGothic-45432\"/>\n     <path d=\"M 92.90625 32.796875 \nL 72.90625 33.203125 \nQ 72.296875 33.203125 71.25 33.203125 \nQ 70.203125 33.203125 68.796875 33.296875 \nQ 67.40625 33.40625 66.296875 33.40625 \nQ 65.203125 33.40625 64.40625 33.40625 \nL 53.09375 33.203125 \nL 53.09375 23.59375 \nL 66.296875 23.59375 \nL 79.5 24.09375 \nL 79.296875 15.296875 \nL 79.5 6.90625 \nL 43.40625 7.203125 \nQ 38 7.203125 34.203125 7.09375 \nQ 30.40625 7 27.703125 6.796875 \nL 27.703125 -0.90625 \nQ 31.203125 -1.09375 35.84375 -1.1875 \nQ 40.5 -1.296875 46.5 -1.296875 \nL 81.296875 -1 \nL 81.296875 -6.59375 \nQ 79.203125 -6.5 77.453125 -6.5 \nQ 75.703125 -6.5 74.296875 -6.5 \nQ 55.09375 -6.203125 50.40625 -6.203125 \nQ 42.703125 -6.203125 35.25 -6.296875 \nQ 27.796875 -6.40625 20.40625 -6.59375 \nL 20.703125 3.09375 \nQ 20.703125 7 20.640625 8.703125 \nQ 20.59375 10.40625 20.40625 11.796875 \nL 48.296875 11.40625 \nL 52.296875 11.40625 \nL 64.703125 11.40625 \nQ 66.703125 11.5 68.59375 11.546875 \nQ 70.5 11.59375 72.296875 11.703125 \nL 72.296875 19 \nL 52.796875 19.203125 \nL 20.40625 18.90625 \nL 20.40625 24.09375 \nL 33 23.59375 \nL 46.09375 23.59375 \nL 46.09375 33.40625 \nL 26.203125 33.203125 \nQ 21.40625 33.203125 16.296875 33.09375 \nQ 11.203125 33 6.796875 32.796875 \nL 6.796875 38.90625 \nQ 8.703125 38.796875 11.75 38.75 \nQ 14.796875 38.703125 19.203125 38.5 \nQ 28.09375 38.296875 35.046875 38.1875 \nQ 42 38.09375 49.09375 38.09375 \nQ 52.796875 38.09375 56.34375 38.09375 \nQ 59.90625 38.09375 63.40625 38.203125 \nQ 70.40625 38.40625 79.703125 38.5 \nQ 84.40625 38.703125 87.65625 38.75 \nQ 90.90625 38.796875 92.90625 38.90625 \nz\nM 84.703125 47.203125 \nQ 84.59375 46.90625 84.59375 46.703125 \nQ 84.40625 46.203125 83.90625 45.703125 \nQ 83.796875 45.5 83.4375 44.953125 \nQ 83.09375 44.40625 82.59375 43.5 \nQ 82.40625 43.296875 82.203125 42.84375 \nQ 82 42.40625 81.703125 41.90625 \nQ 78 42.40625 75.90625 42.796875 \nQ 72.40625 43.5 69 44.796875 \nQ 65.59375 46.09375 62.5 47.75 \nQ 59.40625 49.40625 56.75 51.296875 \nQ 54.09375 53.203125 52.203125 55.09375 \nQ 51.59375 55.796875 50.9375 56.5 \nQ 50.296875 57.203125 49.59375 58.203125 \nQ 46.703125 54.703125 44.09375 52.703125 \nQ 39.703125 49.296875 34.40625 46.90625 \nQ 28.296875 44.09375 22.5 42.703125 \nQ 20.703125 42.296875 17.796875 41.796875 \nL 14.796875 45.90625 \nQ 14.5 46.40625 14.296875 46.90625 \nQ 14.296875 47.09375 14.203125 47.203125 \nQ 14.203125 47.40625 14.796875 47.546875 \nQ 15.40625 47.703125 16.25 47.796875 \nQ 17.09375 47.90625 17.9375 47.953125 \nQ 18.796875 48 19.40625 48 \nQ 25.90625 49.09375 32.40625 52 \nQ 40 55.203125 43.796875 59.40625 \nQ 45 60.59375 46.40625 62.90625 \nL 32.59375 62.90625 \nL 16.203125 62.296875 \nL 16.203125 68.203125 \nL 49.296875 67.796875 \nL 53.90625 67.796875 \nQ 63.59375 67.796875 70.59375 67.890625 \nQ 77.59375 68 82.796875 68.203125 \nL 82.796875 62.296875 \nQ 79.09375 62.5 77.296875 62.59375 \nQ 73.703125 62.796875 71.34375 62.890625 \nQ 69 63 68 63 \nL 52.40625 62.90625 \nQ 56.703125 56.59375 65.296875 52.5 \nQ 69.5 51.296875 73.59375 50.09375 \nQ 77.703125 48.90625 81.90625 47.703125 \nQ 84.703125 47.703125 84.703125 47.203125 \nz\nM 60.09375 75.09375 \nQ 57.796875 75.296875 55.046875 75.390625 \nQ 52.296875 75.5 49.703125 75.5 \nQ 47.09375 75.5 44.34375 75.390625 \nQ 41.59375 75.296875 39.203125 75.09375 \nL 39.203125 80.796875 \nL 49.40625 80.5 \nQ 53.203125 80.5 55.953125 80.640625 \nQ 58.703125 80.796875 60.09375 81 \nz\n\" id=\"AppleGothic-52636\"/>\n     <path d=\"M 34.796875 82.203125 \nL 41.40625 82.203125 \nQ 36.59375 74.5 33.890625 69.890625 \nQ 31.203125 65.296875 30.59375 63.796875 \nQ 25.09375 51.296875 25.09375 35.5 \nQ 25.09375 24.796875 27.40625 15.90625 \nQ 29.40625 8.90625 33.40625 1.59375 \nQ 33.59375 1.09375 35.546875 -2.046875 \nQ 37.5 -5.203125 41.09375 -11.203125 \nL 34.796875 -11.203125 \nQ 32.796875 -8.296875 30.9375 -5.546875 \nQ 29.09375 -2.796875 27.09375 0 \nQ 24.703125 3.796875 22.953125 7.546875 \nQ 21.203125 11.296875 19.90625 14.90625 \nQ 16.703125 24.796875 16.703125 35.5 \nQ 16.703125 46.296875 19.703125 55.59375 \nQ 20.90625 59.203125 22.65625 62.84375 \nQ 24.40625 66.5 26.796875 70.296875 \nQ 28.796875 73.296875 30.796875 76.25 \nQ 32.796875 79.203125 34.796875 82.203125 \nz\n\" id=\"AppleGothic-40\"/>\n     <path d=\"M 71.203125 49.90625 \nL 71.203125 63.703125 \nL 48.90625 64 \nL 27.40625 63.703125 \nL 27.40625 49.90625 \nL 48.59375 49.59375 \nz\nM 81.40625 -6.703125 \nL 49.90625 -6.40625 \nL 20.703125 -6.703125 \nL 20.90625 7.40625 \nL 20.703125 18.703125 \nL 24.203125 18.796875 \nQ 25.703125 18.796875 27.203125 18.59375 \nQ 28.703125 18.40625 28.703125 17.40625 \nQ 28.703125 17.09375 28.390625 16.09375 \nQ 28.09375 15.09375 28.09375 14.59375 \nL 28 -0.59375 \nL 49.90625 -0.59375 \nQ 55.296875 -0.59375 59.6875 -0.59375 \nQ 64.09375 -0.59375 67.84375 -0.5 \nQ 71.59375 -0.40625 74.890625 -0.34375 \nQ 78.203125 -0.296875 81.40625 -0.09375 \nz\nM 94 27.5 \nQ 86 27.5 72.09375 27.796875 \nQ 65.09375 28 60.59375 28.09375 \nQ 56.09375 28.203125 54.09375 28.203125 \nL 54.296875 9.796875 \nL 46.796875 9.703125 \nL 46.90625 28.203125 \nL 26.09375 28 \nQ 19.09375 28 14.296875 27.796875 \nQ 9.5 27.59375 6 27.40625 \nL 6 34.09375 \nQ 7.40625 34.09375 9.703125 34.046875 \nQ 12 34 15.296875 33.90625 \nQ 18.59375 33.796875 23 33.75 \nQ 27.40625 33.703125 32.796875 33.59375 \nQ 38.203125 33.5 42.5 33.453125 \nQ 46.796875 33.40625 50 33.40625 \nQ 58.5 33.40625 71.09375 33.703125 \nQ 77.5 33.90625 81.453125 34 \nQ 85.40625 34.09375 87 34.203125 \nQ 88.703125 34.296875 90.453125 34.390625 \nQ 92.203125 34.5 94 34.59375 \nz\nM 78.796875 79.59375 \nQ 78.796875 79.203125 78.5 78.296875 \nQ 78.203125 77.40625 78.203125 77.09375 \nL 78 64.40625 \nL 78.296875 43.796875 \nL 48.5 44.09375 \nL 20.40625 43.796875 \nQ 20.40625 45 20.453125 46.953125 \nQ 20.5 48.90625 20.546875 51.25 \nQ 20.59375 53.59375 20.640625 56.140625 \nQ 20.703125 58.703125 20.703125 61.203125 \nQ 20.703125 68.59375 20.59375 73.09375 \nQ 20.5 77.59375 20.296875 80.59375 \nL 23 80.703125 \nQ 25.203125 80.703125 26.546875 80.34375 \nQ 27.90625 80 27.90625 79 \nQ 27.90625 78.5 27.65625 77.453125 \nQ 27.40625 76.40625 27.40625 76.09375 \nL 27.40625 69.40625 \nL 49 69.09375 \nL 71.203125 69.40625 \nL 71 81.203125 \nL 73.5 81.296875 \nQ 75.796875 81.296875 77.296875 80.9375 \nQ 78.796875 80.59375 78.796875 79.59375 \nz\n\" id=\"AppleGothic-48516\"/>\n     <path d=\"M 34.703125 35.5 \nQ 34.703125 24.796875 31.5 15 \nQ 29.09375 7.796875 24.296875 0.09375 \nQ 22.296875 -2.796875 20.390625 -5.546875 \nQ 18.5 -8.296875 16.59375 -11.203125 \nL 10.296875 -11.203125 \nQ 12.203125 -8 14.09375 -4.84375 \nQ 16 -1.703125 18 1.5 \nQ 20 5.203125 21.5 8.703125 \nQ 23 12.203125 23.90625 15.703125 \nQ 26.296875 24.40625 26.296875 35.5 \nQ 26.296875 41.40625 25.640625 46.453125 \nQ 25 51.5 23.703125 56 \nQ 22.796875 59.40625 21.1875 62.953125 \nQ 19.59375 66.5 17.5 70.296875 \nQ 15.5 73.296875 13.640625 76.25 \nQ 11.796875 79.203125 10 82.203125 \nL 16.59375 82.203125 \nQ 18.59375 79.203125 20.546875 76.25 \nQ 22.5 73.296875 24.5 70.40625 \nQ 26.90625 66.5 28.703125 62.84375 \nQ 30.5 59.203125 31.59375 55.703125 \nQ 34.703125 46.5 34.703125 35.5 \nz\n\" id=\"AppleGothic-41\"/>\n     <path id=\"AppleGothic-32\"/>\n     <path d=\"M 48.203125 48.796875 \nL 48.203125 39.40625 \nQ 42.59375 44.703125 36.703125 47 \nQ 35 47.703125 33.203125 47.953125 \nQ 31.40625 48.203125 29.59375 48.203125 \nQ 21.296875 48.203125 16 42 \nQ 10.703125 35.59375 10.703125 26.796875 \nQ 10.703125 17.796875 16.203125 11.40625 \nQ 21.703125 5.296875 30 5.296875 \nQ 35.203125 5.296875 39.5 7.546875 \nQ 43.796875 9.796875 48.203125 14.296875 \nL 48.203125 4.796875 \nQ 42.90625 1.5 38.59375 0.09375 \nQ 34.296875 -1.296875 29.90625 -1.296875 \nQ 18.703125 -1.296875 10.703125 6.703125 \nQ 2.90625 15 2.90625 26.703125 \nQ 2.90625 38.203125 10.59375 46.5 \nQ 18.40625 54.703125 30 54.703125 \nQ 35.90625 54.703125 41 52.703125 \nQ 44 51.59375 48.203125 48.796875 \nz\n\" id=\"AppleGothic-99\"/>\n     <path d=\"M 29.5 -1.296875 \nQ 19.203125 -1.296875 11.40625 6.203125 \nQ 3.09375 14.09375 3.09375 26.703125 \nQ 3.09375 38.59375 10.40625 46.59375 \nQ 17.90625 54.703125 28.90625 54.703125 \nQ 39.796875 54.703125 47.296875 46.59375 \nQ 54.703125 38.59375 54.703125 26.796875 \nQ 54.703125 14.40625 46.703125 6.296875 \nQ 39.296875 -1.296875 29.5 -1.296875 \nz\nM 28.796875 5.296875 \nQ 36 5.296875 41.59375 11.296875 \nQ 47 17.40625 47 26.796875 \nQ 47 36.5 41.203125 42.59375 \nQ 35.90625 48.203125 28.90625 48.203125 \nQ 21.703125 48.203125 16.59375 42.40625 \nQ 11 36 11 26.703125 \nQ 11 17.296875 16.5 11 \nQ 21.59375 5.296875 28.796875 5.296875 \nz\n\" id=\"AppleGothic-111\"/>\n     <path d=\"M 4.09375 53.5 \nL 11.40625 53.5 \nL 11.40625 19.40625 \nQ 11.40625 13.703125 14.703125 9.796875 \nQ 18.296875 5.296875 24.90625 5.296875 \nQ 32.5 5.296875 37.90625 11.40625 \nQ 43.5 17.796875 43.5 25.5 \nL 43.5 53.5 \nL 50.703125 53.5 \nL 50.703125 0 \nL 44.40625 0 \nL 43.90625 9.09375 \nQ 42.296875 6.90625 40.5 5.15625 \nQ 38.703125 3.40625 36.59375 2.09375 \nQ 31 -1.296875 24.296875 -1.296875 \nQ 15.09375 -1.296875 9.59375 4.40625 \nQ 4.09375 10.203125 4.09375 18.5 \nz\n\" id=\"AppleGothic-117\"/>\n     <path d=\"M 51 35.796875 \nL 51 0 \nL 43.796875 0 \nL 43.796875 35.296875 \nQ 43.796875 40.90625 39.703125 44.5 \nQ 35.59375 48.203125 29.90625 48.203125 \nQ 22.296875 48.203125 16.796875 41.90625 \nQ 11.296875 35.5 11.296875 27.5 \nL 11.296875 0 \nL 4.5 0 \nL 4.5 53.5 \nL 10.796875 53.5 \nL 11.09375 43.5 \nQ 13.796875 47.59375 17.40625 50.296875 \nQ 23.296875 54.703125 30.703125 54.703125 \nQ 39.296875 54.703125 45.09375 49.5 \nQ 51 44.40625 51 35.796875 \nz\n\" id=\"AppleGothic-110\"/>\n     <path d=\"M 10.796875 69.296875 \nL 17.40625 69.296875 \nL 17.40625 53.59375 \nL 31.5 53.59375 \nL 31.5 47.09375 \nL 17.40625 47.09375 \nL 17.40625 13.09375 \nQ 17.40625 8.90625 18.953125 7.09375 \nQ 20.5 5.296875 24.296875 5.296875 \nQ 26.5 5.296875 28.046875 5.796875 \nQ 29.59375 6.296875 31.5 7.09375 \nL 31.5 0.59375 \nQ 29.90625 0.09375 27.65625 -0.34375 \nQ 25.40625 -0.796875 23.09375 -0.796875 \nQ 17.09375 -0.796875 13.796875 1.90625 \nQ 10.09375 4.703125 10.09375 10.90625 \nL 10.09375 47.09375 \nL 1.09375 47.09375 \nL 1.09375 53.59375 \nL 10.09375 53.59375 \nz\n\" id=\"AppleGothic-116\"/>\n     <path d=\"M 3.5 4.59375 \nL 3.5 13.296875 \nQ 9.703125 8.296875 16.09375 6.296875 \nQ 18 5.796875 19.796875 5.546875 \nQ 21.59375 5.296875 23.5 5.296875 \nQ 29.59375 5.296875 33.59375 8.09375 \nQ 37.703125 11.09375 37.703125 14.796875 \nQ 37.703125 16.796875 36.203125 18.90625 \nQ 34.09375 21.5 25 23.59375 \nQ 14.203125 26.296875 10.59375 28.09375 \nQ 3.59375 32.09375 3.59375 39.296875 \nQ 3.59375 46 9.40625 50.296875 \nQ 15.296875 54.703125 24.09375 54.703125 \nQ 28.09375 54.703125 31.296875 54 \nQ 34.5 53.296875 37.296875 52.140625 \nQ 40.09375 51 42.5 49.296875 \nL 42.5 40.59375 \nQ 38.296875 44.09375 33.6875 46.140625 \nQ 29.09375 48.203125 24 48.203125 \nQ 18.90625 48.203125 15.203125 45.90625 \nQ 11.40625 43.59375 11.40625 39.90625 \nQ 11.40625 35 20.40625 32.09375 \nQ 24.59375 30.90625 28.6875 29.703125 \nQ 32.796875 28.5 37 27.296875 \nQ 46.09375 23.40625 46.09375 15.5 \nQ 46.09375 8.796875 39.796875 3.703125 \nQ 33.40625 -1.296875 23.90625 -1.296875 \nQ 19.703125 -1.296875 15.703125 -0.40625 \nQ 9.296875 1 3.5 4.59375 \nz\n\" id=\"AppleGothic-115\"/>\n    </defs>\n    <g style=\"fill:#262626;\" transform=\"translate(337.81125 26.0175)scale(0.24 -0.24)\">\n     <use xlink:href=\"#AppleGothic-45432\"/>\n     <use x=\"99.999985\" xlink:href=\"#AppleGothic-52636\"/>\n     <use x=\"199.999969\" xlink:href=\"#AppleGothic-40\"/>\n     <use x=\"249.999954\" xlink:href=\"#AppleGothic-48516\"/>\n     <use x=\"349.999939\" xlink:href=\"#AppleGothic-41\"/>\n     <use x=\"399.999924\" xlink:href=\"#AppleGothic-32\"/>\n     <use x=\"431.999908\" xlink:href=\"#AppleGothic-99\"/>\n     <use x=\"483.899902\" xlink:href=\"#AppleGothic-111\"/>\n     <use x=\"542.19989\" xlink:href=\"#AppleGothic-117\"/>\n     <use x=\"597.699875\" xlink:href=\"#AppleGothic-110\"/>\n     <use x=\"653.599869\" xlink:href=\"#AppleGothic-116\"/>\n     <use x=\"687.799866\" xlink:href=\"#AppleGothic-115\"/>\n    </g>\n   </g>\n  </g>\n </g>\n <defs>\n  <clipPath id=\"p924637c719\">\n   <rect height=\"326.16\" width=\"669.6\" x=\"91.5\" y=\"32.0175\"/>\n  </clipPath>\n </defs>\n</svg>\n",
      "image/png": "[encoded data removed]"
     },
     "metadata": {
      "needs_background": "light"
     }
    }
   ],
   "source": [
    "sales_result_ds['노출(분)'].value_counts().plot(kind = 'bar', figsize = (12,6), title = '노출(분) counts')\n",
    "plt.show()"
   ]
  },
  {
   "cell_type": "code",
   "execution_count": 59,
   "metadata": {
    "tags": []
   },
   "outputs": [
    {
     "output_type": "stream",
     "name": "stdout",
     "text": "가장 긴 노출(분):  60\n"
    }
   ],
   "source": [
    "print(\"가장 긴 노출(분): \", sales_result_ds['노출(분)'].max())"
   ]
  },
  {
   "cell_type": "markdown",
   "metadata": {},
   "source": [
    "- 20분 편성이 가장 많고, 0분을 제외하고 30분, 10분 순으로 많다.\n",
    "- 가장 긴 노출 시간은 60분이다."
   ]
  },
  {
   "cell_type": "code",
   "execution_count": null,
   "metadata": {},
   "outputs": [],
   "source": []
  }
 ]
}