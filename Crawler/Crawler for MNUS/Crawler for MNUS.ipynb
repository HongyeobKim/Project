{
 "cells": [
  {
   "cell_type": "code",
   "execution_count": null,
   "metadata": {},
   "outputs": [],
   "source": [
    "# 라이브러리 불러오기\n",
    "from selenium import webdriver\n",
    "import pandas as pd\n",
    "import urllib.request\n",
    "from pandas import DataFrame"
   ]
  },
  {
   "cell_type": "code",
   "execution_count": null,
   "metadata": {},
   "outputs": [],
   "source": [
    "driver = webdriver.Chrome(r\"chromedriver.exe 위치")\n",
    "# 페이지 작동 지연\n",
    "driver.implicitly_wait(10)"
   ]
  },
  {
   "cell_type": "code",
   "execution_count": null,
   "metadata": {},
   "outputs": [],
   "source": [
    "df = DataFrame(columns = ['소스 페이지명', '가격', '제품 카테고리','브랜드','시즌','상품명','상품소개','색상','판매사이즈',\n",
    "                          '어깨단면','가슴단면','소매길이','소매단면','암홀','허리단면','힙단면','밑단단면','총장','소재',\n",
    "                          '무게(g)','안감','촉감','착용감','신축성','두께감','비침','세탁(권장)','세탁(가능)','세탁(불가능)',\n",
    "                          '연관태크','사이트'])\n",
    "count = 0"
   ]
  },
  {
   "cell_type": "code",
   "execution_count": null,
   "metadata": {
    "scrolled": true
   },
   "outputs": [],
   "source": [
    "while True:\n",
    "    site = input('이미지를 크롤링할 사이트 주소 입력: ')\n",
    "    # 사이트 접속\n",
    "    driver.get(site)\n",
    "    df.loc[count, '소스 페이지명'] = '엠엔어스'\n",
    "    df.loc[count, '시즌'] = 'S/S'\n",
    "    # 제품명 입력\n",
    "    product= driver.find_element_by_xpath('//*[@id=\"contents_\"]/div/div[2]/div/div/div[1]/div/ul/li[1]/span').text\n",
    "    name = product.split(\" (\")[0]\n",
    "    df.loc[count, '상품명'] = name\n",
    "        \n",
    "    # 색상\n",
    "    product= driver.find_element_by_xpath('//*[@id=\"contents_\"]/div/div[2]/div/div/div[1]/div/ul/li[3]').text\n",
    "    des = product.split(\"\\n\\n\")\n",
    "    df.loc[count, '색상'] = des[-5][6:]\n",
    "        \n",
    "    # 사이트\n",
    "    df.loc[count, '사이트'] = site\n",
    "        \n",
    "    # 가격\n",
    "    price = driver.find_element_by_xpath('//*[@id=\"span_product_price_text\"]').text\n",
    "    df.loc[count, '가격'] = price[:-1]\n",
    "         \n",
    "    # 어깨단면 가슴단면 소매길이 소매단면 암홀 허리단면 힙단면 밑단단면 총장 소재 안감 촉감 착용감 신축성 두께감 비침\n",
    "    #세탁(권장) 세탁(가능) 세탁(불가능) \n",
    "    df.loc[count, '상품소개'] = input('상품소개: ')\n",
    "    \n",
    "    size = input('판매사이즈: ')\n",
    "    if size == '':\n",
    "        df.loc[count, '판매사이즈'] = 'One size' \n",
    "    else:\n",
    "        df.loc[count, '판매사이즈'] = size \n",
    "    \n",
    "    df.loc[count, '어깨단면'] = input('어깨: ')\n",
    "    df.loc[count, '소매길이'] = input('소매길이: ')\n",
    "    df.loc[count, '소매단면'] = input('소매단면: ')\n",
    "    df.loc[count, '암홀'] = input('암홀: ')\n",
    "    df.loc[count, '가슴단면'] = input('가슴단면: ')\n",
    "    df.loc[count, '밑단단면'] = input('밑단단면: ')\n",
    "    df.loc[count, '허리단면'] = input('허리단면: ')\n",
    "    df.loc[count, '총장'] = input('총장: ')\n",
    "    df.loc[count, '소재'] = input('소재: ')\n",
    "    df.loc[count, '안감'] = input('안감: ')\n",
    "    df.loc[count, '촉감'] = input('촉감: ')\n",
    "    df.loc[count, '착용감'] = input('착용감: ')\n",
    "    df.loc[count, '두께감'] = input('두께감 ')\n",
    "    \n",
    "    bit = input('비침: ')\n",
    "    if bit == '':\n",
    "        df.loc[count, '비침'] = '없음'\n",
    "    else:\n",
    "        df.loc[count, '비침'] = bit\n",
    "        \n",
    "    df.loc[count, '신축성'] = input('신축성: ')\n",
    "    df.loc[count, '세탁(권장)'] = input('세탁(권장): ')\n",
    "    df.loc[count, '세탁(가능)'] = input('세탁(가능): ')\n",
    "    df.loc[count, '세탁(불가능)'] = input('세탁(불가능): ')\n",
    "                             \n",
    "    # 대표사진 저장\n",
    "    mainimg = driver.find_element_by_xpath('//*[@id=\"grow_1\"]/div/div[1]/div/div/div/a/img')\n",
    "    mainimg.get_attribute('src')\n",
    "    url = mainimg.get_attribute('src')\n",
    "    urllib.request.urlretrieve(url,name + '_대표사진' + '.png')\n",
    "    df.to_excel('result'+ '.xlsx')\n",
    "    count = count + 1"
   ]
  },
  {
   "cell_type": "code",
   "execution_count": null,
   "metadata": {},
   "outputs": [],
   "source": []
  }
 ],
 "metadata": {
  "kernelspec": {
   "display_name": "Python 3",
   "language": "python",
   "name": "python3"
  },
  "language_info": {
   "codemirror_mode": {
    "name": "ipython",
    "version": 3
   },
   "file_extension": ".py",
   "mimetype": "text/x-python",
   "name": "python",
   "nbconvert_exporter": "python",
   "pygments_lexer": "ipython3",
   "version": "3.7.6"
  }
 },
 "nbformat": 4,
 "nbformat_minor": 4
}
